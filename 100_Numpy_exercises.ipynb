{
  "cells": [
    {
      "cell_type": "markdown",
      "metadata": {
        "id": "W5gTBBr69FnG"
      },
      "source": [
        "# 100 numpy exercises\n"
      ]
    },
    {
      "cell_type": "markdown",
      "metadata": {
        "id": "28-5cX-V9FnK"
      },
      "source": [
        "[link text](https://)#### 1. Import the numpy package under the name `np` (★☆☆)"
      ]
    },
    {
      "cell_type": "code",
      "source": [
        "import numpy as np"
      ],
      "metadata": {
        "id": "ijQ68ggv-Q8c"
      },
      "execution_count": null,
      "outputs": []
    },
    {
      "cell_type": "markdown",
      "metadata": {
        "id": "ee0GiE8b9FnM"
      },
      "source": [
        "#### 2. Print the numpy version and the configuration (★☆☆)"
      ]
    },
    {
      "cell_type": "code",
      "execution_count": null,
      "metadata": {
        "id": "5EP4XZuA9FnM",
        "outputId": "157e543a-8808-4fd4-feba-73243c1cc038",
        "colab": {
          "base_uri": "https://localhost:8080/"
        }
      },
      "outputs": [
        {
          "output_type": "stream",
          "name": "stdout",
          "text": [
            "<module 'numpy.version' from '/usr/local/lib/python3.7/dist-packages/numpy/version.py'>\n",
            "blas_mkl_info:\n",
            "  NOT AVAILABLE\n",
            "blis_info:\n",
            "  NOT AVAILABLE\n",
            "openblas_info:\n",
            "    libraries = ['openblas', 'openblas']\n",
            "    library_dirs = ['/usr/local/lib']\n",
            "    language = c\n",
            "    define_macros = [('HAVE_CBLAS', None)]\n",
            "    runtime_library_dirs = ['/usr/local/lib']\n",
            "blas_opt_info:\n",
            "    libraries = ['openblas', 'openblas']\n",
            "    library_dirs = ['/usr/local/lib']\n",
            "    language = c\n",
            "    define_macros = [('HAVE_CBLAS', None)]\n",
            "    runtime_library_dirs = ['/usr/local/lib']\n",
            "lapack_mkl_info:\n",
            "  NOT AVAILABLE\n",
            "openblas_lapack_info:\n",
            "    libraries = ['openblas', 'openblas']\n",
            "    library_dirs = ['/usr/local/lib']\n",
            "    language = c\n",
            "    define_macros = [('HAVE_CBLAS', None)]\n",
            "    runtime_library_dirs = ['/usr/local/lib']\n",
            "lapack_opt_info:\n",
            "    libraries = ['openblas', 'openblas']\n",
            "    library_dirs = ['/usr/local/lib']\n",
            "    language = c\n",
            "    define_macros = [('HAVE_CBLAS', None)]\n",
            "    runtime_library_dirs = ['/usr/local/lib']\n",
            "Supported SIMD extensions in this NumPy install:\n",
            "    baseline = SSE,SSE2,SSE3\n",
            "    found = SSSE3,SSE41,POPCNT,SSE42,AVX,F16C,FMA3,AVX2\n",
            "    not found = AVX512F,AVX512CD,AVX512_KNL,AVX512_KNM,AVX512_SKX,AVX512_CLX,AVX512_CNL,AVX512_ICL\n",
            "None\n"
          ]
        }
      ],
      "source": [
        "print(np.version)\n",
        "print(np.show_config())"
      ]
    },
    {
      "cell_type": "markdown",
      "metadata": {
        "id": "y4jYhuA_9FnM"
      },
      "source": [
        "#### 3. Create a null vector of size 10 (★☆☆)"
      ]
    },
    {
      "cell_type": "code",
      "source": [
        "null_vector=np.zeros([],dtype=int)\n",
        "null_vector"
      ],
      "metadata": {
        "colab": {
          "base_uri": "https://localhost:8080/"
        },
        "id": "QSiOZ5Pa0zI2",
        "outputId": "a801a78f-d187-48ad-893c-e1963d72fd71"
      },
      "execution_count": null,
      "outputs": [
        {
          "output_type": "execute_result",
          "data": {
            "text/plain": [
              "array(0)"
            ]
          },
          "metadata": {},
          "execution_count": 8
        }
      ]
    },
    {
      "cell_type": "markdown",
      "metadata": {
        "id": "jV2LOhex9FnN"
      },
      "source": [
        "#### 4. How to find the memory size of any array (★☆☆)"
      ]
    },
    {
      "cell_type": "code",
      "execution_count": null,
      "metadata": {
        "id": "sL3m_vlW9FnO",
        "outputId": "fea6aba5-4d17-42a6-ba80-c35e7787719b",
        "colab": {
          "base_uri": "https://localhost:8080/"
        }
      },
      "outputs": [
        {
          "output_type": "stream",
          "name": "stdout",
          "text": [
            "memory size of NumPy array: 24\n"
          ]
        }
      ],
      "source": [
        "x=np.array([100,28,286])\n",
        "print(\"memory size of NumPy array:\", x.nbytes)\n"
      ]
    },
    {
      "cell_type": "code",
      "source": [
        "print((A.size*A.itemsize))"
      ],
      "metadata": {
        "colab": {
          "base_uri": "https://localhost:8080/"
        },
        "id": "fAiW-ik4Z9I5",
        "outputId": "cf28fb81-af2c-451f-a4ed-35c0611d18bc"
      },
      "execution_count": null,
      "outputs": [
        {
          "output_type": "stream",
          "name": "stdout",
          "text": [
            "80\n"
          ]
        }
      ]
    },
    {
      "cell_type": "markdown",
      "metadata": {
        "id": "Y1ktZ2IW9FnO"
      },
      "source": [
        "#### 5. How to get the documentation of the numpy add function from the command line? (★☆☆)"
      ]
    },
    {
      "cell_type": "code",
      "source": [
        "import numpy as np\n",
        "print(np.info(np.add))"
      ],
      "metadata": {
        "colab": {
          "base_uri": "https://localhost:8080/"
        },
        "id": "96gF1cz4Qria",
        "outputId": "c35b73f1-8cba-4ae5-89b2-08417b13ef61"
      },
      "execution_count": null,
      "outputs": [
        {
          "output_type": "stream",
          "name": "stdout",
          "text": [
            "add(x1, x2, /, out=None, *, where=True, casting='same_kind', order='K', dtype=None, subok=True[, signature, extobj])\n",
            "\n",
            "Add arguments element-wise.\n",
            "\n",
            "Parameters\n",
            "----------\n",
            "x1, x2 : array_like\n",
            "    The arrays to be added.\n",
            "    If ``x1.shape != x2.shape``, they must be broadcastable to a common\n",
            "    shape (which becomes the shape of the output).\n",
            "out : ndarray, None, or tuple of ndarray and None, optional\n",
            "    A location into which the result is stored. If provided, it must have\n",
            "    a shape that the inputs broadcast to. If not provided or None,\n",
            "    a freshly-allocated array is returned. A tuple (possible only as a\n",
            "    keyword argument) must have length equal to the number of outputs.\n",
            "where : array_like, optional\n",
            "    This condition is broadcast over the input. At locations where the\n",
            "    condition is True, the `out` array will be set to the ufunc result.\n",
            "    Elsewhere, the `out` array will retain its original value.\n",
            "    Note that if an uninitialized `out` array is created via the default\n",
            "    ``out=None``, locations within it where the condition is False will\n",
            "    remain uninitialized.\n",
            "**kwargs\n",
            "    For other keyword-only arguments, see the\n",
            "    :ref:`ufunc docs <ufuncs.kwargs>`.\n",
            "\n",
            "Returns\n",
            "-------\n",
            "add : ndarray or scalar\n",
            "    The sum of `x1` and `x2`, element-wise.\n",
            "    This is a scalar if both `x1` and `x2` are scalars.\n",
            "\n",
            "Notes\n",
            "-----\n",
            "Equivalent to `x1` + `x2` in terms of array broadcasting.\n",
            "\n",
            "Examples\n",
            "--------\n",
            ">>> np.add(1.0, 4.0)\n",
            "5.0\n",
            ">>> x1 = np.arange(9.0).reshape((3, 3))\n",
            ">>> x2 = np.arange(3.0)\n",
            ">>> np.add(x1, x2)\n",
            "array([[  0.,   2.,   4.],\n",
            "       [  3.,   5.,   7.],\n",
            "       [  6.,   8.,  10.]])\n",
            "\n",
            "The ``+`` operator can be used as a shorthand for ``np.add`` on ndarrays.\n",
            "\n",
            ">>> x1 = np.arange(9.0).reshape((3, 3))\n",
            ">>> x2 = np.arange(3.0)\n",
            ">>> x1 + x2\n",
            "array([[ 0.,  2.,  4.],\n",
            "       [ 3.,  5.,  7.],\n",
            "       [ 6.,  8., 10.]])\n",
            "None\n"
          ]
        }
      ]
    },
    {
      "cell_type": "markdown",
      "metadata": {
        "id": "yHC6UVB49FnP"
      },
      "source": [
        "#### 6. Create a null vector of size 10 but the fifth value which is 1 (★☆☆)"
      ]
    },
    {
      "cell_type": "code",
      "source": [
        "null_vector2=np.zeros((10),dtype=int)\n",
        "null_vector2[4]=1\n",
        "null_vector2"
      ],
      "metadata": {
        "colab": {
          "base_uri": "https://localhost:8080/"
        },
        "id": "hIl8tZ8DRoUu",
        "outputId": "b13789a3-9f14-433d-bea3-d5633a54d8f4"
      },
      "execution_count": null,
      "outputs": [
        {
          "output_type": "execute_result",
          "data": {
            "text/plain": [
              "array([0, 0, 0, 0, 1, 0, 0, 0, 0, 0])"
            ]
          },
          "metadata": {},
          "execution_count": 11
        }
      ]
    },
    {
      "cell_type": "markdown",
      "metadata": {
        "id": "sNiS30Qf9FnQ"
      },
      "source": [
        "#### 7. Create a vector with values ranging from 10 to 49 (★☆☆)"
      ]
    },
    {
      "cell_type": "code",
      "execution_count": null,
      "metadata": {
        "id": "bzrpEx939FnQ",
        "colab": {
          "base_uri": "https://localhost:8080/"
        },
        "outputId": "11207bc4-83c1-46ea-8981-e10fa21afc54"
      },
      "outputs": [
        {
          "output_type": "execute_result",
          "data": {
            "text/plain": [
              "array([10, 11, 12, 13, 14, 15, 16, 17, 18, 19, 20, 21, 22, 23, 24, 25, 26,\n",
              "       27, 28, 29, 30, 31, 32, 33, 34, 35, 36, 37, 38, 39, 40, 41, 42, 43,\n",
              "       44, 45, 46, 47, 48, 49])"
            ]
          },
          "metadata": {},
          "execution_count": 12
        }
      ],
      "source": [
        "v = np.arange(10,50)\n",
        "v"
      ]
    },
    {
      "cell_type": "markdown",
      "metadata": {
        "id": "qHOdUgzs9FnQ"
      },
      "source": [
        "#### 8. Reverse a vector (first element becomes last) (★☆☆)"
      ]
    },
    {
      "cell_type": "code",
      "source": [
        "np.flip(B)"
      ],
      "metadata": {
        "colab": {
          "base_uri": "https://localhost:8080/"
        },
        "id": "TUH-AGDrbNaC",
        "outputId": "127ef2b4-843c-4ae1-ed16-0f95fbe977f8"
      },
      "execution_count": null,
      "outputs": [
        {
          "output_type": "execute_result",
          "data": {
            "text/plain": [
              "array([49, 48, 47, 46, 45, 44, 43, 42, 41, 40, 39, 38, 37, 36, 35, 34, 33,\n",
              "       32, 31, 30, 29, 28, 27, 26, 25, 24, 23, 22, 21, 20, 19, 18, 17, 16,\n",
              "       15, 14, 13, 12, 11, 10])"
            ]
          },
          "metadata": {},
          "execution_count": 26
        }
      ]
    },
    {
      "cell_type": "markdown",
      "metadata": {
        "id": "c4SOJ5jq9FnQ"
      },
      "source": [
        "#### 9. Create a 3x3 matrix with values ranging from 0 to 8 (★☆☆)"
      ]
    },
    {
      "cell_type": "code",
      "source": [
        "C = np.arange(0,9).reshape(3,3)\n",
        "print(C)"
      ],
      "metadata": {
        "colab": {
          "base_uri": "https://localhost:8080/"
        },
        "id": "9hFux6mybX6v",
        "outputId": "0dc0486d-069c-4ead-ac3e-adae8f41e28d"
      },
      "execution_count": null,
      "outputs": [
        {
          "output_type": "stream",
          "name": "stdout",
          "text": [
            "[[0 1 2]\n",
            " [3 4 5]\n",
            " [6 7 8]]\n"
          ]
        }
      ]
    },
    {
      "cell_type": "markdown",
      "metadata": {
        "id": "9ei2U7qk9FnR"
      },
      "source": [
        "#### 10. Find indices of non-zero elements from [1,2,0,0,4,0] (★☆☆)"
      ]
    },
    {
      "cell_type": "code",
      "source": [
        "D = np.array ([1,2,0,0,4,0])\n",
        "np.nonzero(D)"
      ],
      "metadata": {
        "colab": {
          "base_uri": "https://localhost:8080/"
        },
        "id": "FZZBMk9wbt5P",
        "outputId": "b316d9a2-db49-4c17-a241-5d1dda9e8b86"
      },
      "execution_count": null,
      "outputs": [
        {
          "output_type": "execute_result",
          "data": {
            "text/plain": [
              "(array([0, 1, 4]),)"
            ]
          },
          "metadata": {},
          "execution_count": 15
        }
      ]
    },
    {
      "cell_type": "markdown",
      "metadata": {
        "id": "GLnDyP8-9FnR"
      },
      "source": [
        "#### 11. Create a 3x3 identity matrix (★☆☆)"
      ]
    },
    {
      "cell_type": "code",
      "execution_count": null,
      "metadata": {
        "id": "OvW0GTNT9FnR",
        "colab": {
          "base_uri": "https://localhost:8080/"
        },
        "outputId": "f77756bb-8364-49fd-d26d-22357bb58103"
      },
      "outputs": [
        {
          "output_type": "stream",
          "name": "stdout",
          "text": [
            "3*3 matrix:\n",
            "[[1. 0. 0.]\n",
            " [0. 1. 0.]\n",
            " [0. 0. 1.]]\n"
          ]
        }
      ],
      "source": [
        "array_2D = np.identity(3)\n",
        "print('3*3 matrix:')\n",
        "print(array_2D)"
      ]
    },
    {
      "cell_type": "code",
      "source": [
        "E = np.eye((3))\n",
        "E"
      ],
      "metadata": {
        "colab": {
          "base_uri": "https://localhost:8080/"
        },
        "id": "37gAEOWVcKNv",
        "outputId": "cc633f2d-a397-40ca-9560-63c050ac1404"
      },
      "execution_count": null,
      "outputs": [
        {
          "output_type": "execute_result",
          "data": {
            "text/plain": [
              "array([[1., 0., 0.],\n",
              "       [0., 1., 0.],\n",
              "       [0., 0., 1.]])"
            ]
          },
          "metadata": {},
          "execution_count": 17
        }
      ]
    },
    {
      "cell_type": "markdown",
      "metadata": {
        "id": "qbaswEji9FnR"
      },
      "source": [
        "#### 12. Create a 3x3x3 array with random values (★☆☆)"
      ]
    },
    {
      "cell_type": "code",
      "execution_count": null,
      "metadata": {
        "id": "c4IoPjhK9FnR",
        "colab": {
          "base_uri": "https://localhost:8080/"
        },
        "outputId": "c296990e-1792-49d5-df3c-daa78eef932e"
      },
      "outputs": [
        {
          "output_type": "stream",
          "name": "stdout",
          "text": [
            "[[[0.59735998 0.31097877 0.86823997]\n",
            "  [0.55422243 0.06053339 0.08192395]\n",
            "  [0.53190773 0.77896527 0.9193297 ]]\n",
            "\n",
            " [[0.90481043 0.28823327 0.46201137]\n",
            "  [0.33874258 0.04065276 0.56712236]\n",
            "  [0.48522959 0.34733633 0.73966165]]\n",
            "\n",
            " [[0.3494464  0.69134508 0.27432726]\n",
            "  [0.93238128 0.4587347  0.03366449]\n",
            "  [0.30280289 0.68127702 0.80835015]]]\n"
          ]
        }
      ],
      "source": [
        "x = np.random.random((3,3,3))\n",
        "print(x)"
      ]
    },
    {
      "cell_type": "code",
      "source": [
        "F = np.random.rand(3,3,3)\n",
        "F"
      ],
      "metadata": {
        "colab": {
          "base_uri": "https://localhost:8080/"
        },
        "id": "oiseWyeMdb1u",
        "outputId": "710a0309-39b2-4412-931b-6fd25eae5c88"
      },
      "execution_count": null,
      "outputs": [
        {
          "output_type": "execute_result",
          "data": {
            "text/plain": [
              "array([[[0.24467222, 0.37645532, 0.49256325],\n",
              "        [0.67463352, 0.87610784, 0.28872374],\n",
              "        [0.30130077, 0.32802505, 0.45615764]],\n",
              "\n",
              "       [[0.35984476, 0.20198087, 0.73342081],\n",
              "        [0.24229549, 0.61837231, 0.00945299],\n",
              "        [0.39185915, 0.45068612, 0.95909556]],\n",
              "\n",
              "       [[0.0951748 , 0.39008485, 0.4412324 ],\n",
              "        [0.22583075, 0.1980388 , 0.73873241],\n",
              "        [0.54445055, 0.71127608, 0.00508187]]])"
            ]
          },
          "metadata": {},
          "execution_count": 20
        }
      ]
    },
    {
      "cell_type": "markdown",
      "metadata": {
        "id": "fGhMxf-I9FnS"
      },
      "source": [
        "#### 13. Create a 10x10 array with random values and find the minimum and maximum values (★☆☆)"
      ]
    },
    {
      "cell_type": "code",
      "source": [
        "G = np.random.rand(10,10)\n",
        "print(G)\n",
        "gmin = np.min(G)\n",
        "print(gmin)\n",
        "gmax = np.max(G)\n",
        "print(gmax)"
      ],
      "metadata": {
        "colab": {
          "base_uri": "https://localhost:8080/"
        },
        "id": "AoTi5ZJIgwHv",
        "outputId": "345674a6-e850-4b69-920f-519162b4d24f"
      },
      "execution_count": null,
      "outputs": [
        {
          "output_type": "stream",
          "name": "stdout",
          "text": [
            "[[0.09170931 0.43602944 0.48269752 0.73115134 0.35554044 0.48811827\n",
            "  0.46303157 0.75530761 0.76478385 0.46727769]\n",
            " [0.63021844 0.13681679 0.47982138 0.61292548 0.93600766 0.60382271\n",
            "  0.19005064 0.25528605 0.87420536 0.91204046]\n",
            " [0.7135286  0.71248546 0.61944609 0.57593511 0.09543646 0.39768356\n",
            "  0.11778785 0.22073802 0.60788087 0.27423115]\n",
            " [0.86696849 0.06970347 0.05092156 0.75442722 0.67755748 0.66351382\n",
            "  0.89083813 0.72857191 0.67189628 0.82084708]\n",
            " [0.43799228 0.57252909 0.53772973 0.21009195 0.80702555 0.00697324\n",
            "  0.76432374 0.08825502 0.29541499 0.46631972]\n",
            " [0.85353899 0.27956754 0.22594947 0.40324121 0.29749684 0.2656937\n",
            "  0.79792126 0.84896224 0.63493697 0.8046746 ]\n",
            " [0.82165418 0.84125211 0.42660061 0.33661939 0.59778221 0.7664555\n",
            "  0.29971477 0.34364725 0.49101335 0.83573523]\n",
            " [0.03308068 0.12846239 0.60939926 0.05714888 0.39152151 0.41781347\n",
            "  0.53866354 0.26477286 0.27220599 0.86877723]\n",
            " [0.83350618 0.43089081 0.50730015 0.49331474 0.96227627 0.79801939\n",
            "  0.24294931 0.71029493 0.63475912 0.27524509]\n",
            " [0.29000135 0.72606304 0.92462187 0.22500336 0.51278107 0.67869985\n",
            "  0.20483337 0.96351887 0.73126305 0.92387436]]\n",
            "0.006973235700310054\n",
            "0.9635188705671943\n"
          ]
        }
      ]
    },
    {
      "cell_type": "markdown",
      "metadata": {
        "id": "5vFOpgzF9FnS"
      },
      "source": [
        "#### 14. Create a random vector of size 30 and find the mean value (★☆☆)"
      ]
    },
    {
      "cell_type": "code",
      "execution_count": null,
      "metadata": {
        "id": "k9RGDyXv9FnS",
        "colab": {
          "base_uri": "https://localhost:8080/"
        },
        "outputId": "1118213e-7e09-4659-9025-13b42a203974"
      },
      "outputs": [
        {
          "output_type": "stream",
          "name": "stdout",
          "text": [
            "[0.18801258 0.38243911 0.06140572 0.91051686 0.36722721 0.96990399\n",
            " 0.52224022 0.29577313 0.37602371 0.8414448  0.46864897 0.80329397\n",
            " 0.2179168  0.70901815 0.21688685 0.10063593 0.44571854 0.51678517\n",
            " 0.63708752 0.87151789 0.23216999 0.55331278 0.92007554 0.75427808\n",
            " 0.61423983 0.5675605  0.30739504 0.84374914 0.87265784 0.61698304]\n",
            "[0.18801258 0.38243911 0.06140572 0.91051686 0.36722721 0.96990399\n",
            " 0.52224022 0.29577313 0.37602371 0.8414448  0.46864897 0.80329397\n",
            " 0.2179168  0.70901815 0.21688685 0.10063593 0.44571854 0.51678517\n",
            " 0.63708752 0.87151789 0.23216999 0.55331278 0.92007554 0.75427808\n",
            " 0.61423983 0.5675605  0.30739504 0.84374914 0.87265784 0.61698304]\n"
          ]
        }
      ],
      "source": [
        "H = np.random.random(30)\n",
        "print(H)\n",
        "mean = np.mean(H)\n",
        "print(H)"
      ]
    },
    {
      "cell_type": "markdown",
      "metadata": {
        "id": "TMgP_K7r9FnS"
      },
      "source": [
        "#### 15. Create a 2d array with 1 on the border and 0 inside (★☆☆)"
      ]
    },
    {
      "cell_type": "code",
      "execution_count": null,
      "metadata": {
        "id": "nBOCD8i69FnS",
        "colab": {
          "base_uri": "https://localhost:8080/"
        },
        "outputId": "9c86fc06-afd4-4c88-e531-51f335ae2d8a"
      },
      "outputs": [
        {
          "output_type": "stream",
          "name": "stdout",
          "text": [
            "[[1. 1. 1. 1. 1. 1. 1. 1. 1. 1.]\n",
            " [1. 1. 1. 1. 1. 1. 1. 1. 1. 1.]\n",
            " [1. 1. 1. 1. 1. 1. 1. 1. 1. 1.]\n",
            " [1. 1. 1. 1. 1. 1. 1. 1. 1. 1.]\n",
            " [1. 1. 1. 1. 1. 1. 1. 1. 1. 1.]\n",
            " [1. 1. 1. 1. 1. 1. 1. 1. 1. 1.]\n",
            " [1. 1. 1. 1. 1. 1. 1. 1. 1. 1.]\n",
            " [1. 1. 1. 1. 1. 1. 1. 1. 1. 1.]\n",
            " [1. 1. 1. 1. 1. 1. 1. 1. 1. 1.]\n",
            " [1. 1. 1. 1. 1. 1. 1. 1. 1. 1.]]\n",
            "[[1. 1. 1. 1. 1. 1. 1. 1. 1. 1.]\n",
            " [1. 0. 0. 0. 0. 0. 0. 0. 0. 1.]\n",
            " [1. 0. 0. 0. 0. 0. 0. 0. 0. 1.]\n",
            " [1. 0. 0. 0. 0. 0. 0. 0. 0. 1.]\n",
            " [1. 0. 0. 0. 0. 0. 0. 0. 0. 1.]\n",
            " [1. 0. 0. 0. 0. 0. 0. 0. 0. 1.]\n",
            " [1. 0. 0. 0. 0. 0. 0. 0. 0. 1.]\n",
            " [1. 0. 0. 0. 0. 0. 0. 0. 0. 1.]\n",
            " [1. 0. 0. 0. 0. 0. 0. 0. 0. 1.]\n",
            " [1. 1. 1. 1. 1. 1. 1. 1. 1. 1.]]\n"
          ]
        }
      ],
      "source": [
        "I = np.ones((10,10))\n",
        "print(I)\n",
        "I[1:-1,1:-1]=0\n",
        "print(I)"
      ]
    },
    {
      "cell_type": "markdown",
      "metadata": {
        "id": "vmTpYGU49FnS"
      },
      "source": [
        "#### 16. How to add a border (filled with 0's) around an existing array? (★☆☆)"
      ]
    },
    {
      "cell_type": "code",
      "execution_count": null,
      "metadata": {
        "id": "bXJJXobT9FnS",
        "colab": {
          "base_uri": "https://localhost:8080/"
        },
        "outputId": "2d580869-6c66-4b2b-9733-f755944a6dea"
      },
      "outputs": [
        {
          "output_type": "stream",
          "name": "stdout",
          "text": [
            "[[0. 0. 0. 0. 0. 0. 0. 0. 0. 0.]\n",
            " [0. 1. 1. 1. 1. 1. 1. 1. 1. 0.]\n",
            " [0. 1. 1. 1. 1. 1. 1. 1. 1. 0.]\n",
            " [0. 1. 1. 1. 1. 1. 1. 1. 1. 0.]\n",
            " [0. 1. 1. 1. 1. 1. 1. 1. 1. 0.]\n",
            " [0. 1. 1. 1. 1. 1. 1. 1. 1. 0.]\n",
            " [0. 1. 1. 1. 1. 1. 1. 1. 1. 0.]\n",
            " [0. 1. 1. 1. 1. 1. 1. 1. 1. 0.]\n",
            " [0. 1. 1. 1. 1. 1. 1. 1. 1. 0.]\n",
            " [0. 0. 0. 0. 0. 0. 0. 0. 0. 0.]]\n",
            "[[0. 0. 0. 0. 0. 0. 0.]\n",
            " [0. 1. 1. 1. 1. 1. 0.]\n",
            " [0. 1. 1. 1. 1. 1. 0.]\n",
            " [0. 1. 1. 1. 1. 1. 0.]\n",
            " [0. 1. 1. 1. 1. 1. 0.]\n",
            " [0. 1. 1. 1. 1. 1. 0.]\n",
            " [0. 0. 0. 0. 0. 0. 0.]]\n"
          ]
        }
      ],
      "source": [
        "II = np.ones((10,10))\n",
        "#G=np.zeros((12,12))\n",
        "#G[1:-1,1:-1]=II\n",
        "#G\n",
        "II[:,[0,-1]]=0\n",
        "II[[0,-1],:]=0\n",
        "print(II)\n",
        "\n",
        "Z = np.ones((5,5))\n",
        "Z = np.pad(Z, pad_width=1, mode='constant', constant_values=0)\n",
        "print(Z)"
      ]
    },
    {
      "cell_type": "markdown",
      "metadata": {
        "id": "9npfoYI_9FnS"
      },
      "source": [
        "#### 17. What is the result of the following expression? (★☆☆)\n",
        "```python\n",
        "0 * np.nan\n",
        "np.nan == np.nan\n",
        "np.inf > np.nan\n",
        "np.nan - np.nan\n",
        "np.nan in set([np.nan])\n",
        "0.3 == 3 * 0.1\n",
        "```"
      ]
    },
    {
      "cell_type": "code",
      "execution_count": null,
      "metadata": {
        "id": "Watw9lYi9FnS",
        "colab": {
          "base_uri": "https://localhost:8080/"
        },
        "outputId": "b4b95bdc-c19a-427c-bddf-75f2abd21060"
      },
      "outputs": [
        {
          "output_type": "execute_result",
          "data": {
            "text/plain": [
              "False"
            ]
          },
          "metadata": {},
          "execution_count": 22
        }
      ],
      "source": [
        "(0 * np.nan)\n",
        "(np.nan == np.nan)\n",
        "(np.inf > np.nan)\n",
        "np.nan - np.nan\n",
        "np.nan in set([np.nan])\n",
        "(0.3 == 3 * 0.1)"
      ]
    },
    {
      "cell_type": "markdown",
      "metadata": {
        "id": "hgQbJExR9FnT"
      },
      "source": [
        "#### 18. Create a 5x5 matrix with values 1,2,3,4 just below the diagonal (★☆☆)"
      ]
    },
    {
      "cell_type": "code",
      "source": [
        "x = np.zeros((5,5))\n",
        "print(x)\n",
        "x[1,0]=1\n",
        "x[2,1]=2\n",
        "x[3,2]=3\n",
        "x[4,3]=4\n",
        "print(\"The result is:\\n\")\n",
        "print(x)\n",
        "\n"
      ],
      "metadata": {
        "colab": {
          "base_uri": "https://localhost:8080/"
        },
        "id": "u82HCTNEWVX6",
        "outputId": "19b510f3-ed5c-4d49-e01c-2bf3178402bf"
      },
      "execution_count": null,
      "outputs": [
        {
          "output_type": "stream",
          "name": "stdout",
          "text": [
            "[[0. 0. 0. 0. 0.]\n",
            " [0. 0. 0. 0. 0.]\n",
            " [0. 0. 0. 0. 0.]\n",
            " [0. 0. 0. 0. 0.]\n",
            " [0. 0. 0. 0. 0.]]\n",
            "The result is:\n",
            "\n",
            "[[0. 0. 0. 0. 0.]\n",
            " [1. 0. 0. 0. 0.]\n",
            " [0. 2. 0. 0. 0.]\n",
            " [0. 0. 3. 0. 0.]\n",
            " [0. 0. 0. 4. 0.]]\n"
          ]
        }
      ]
    },
    {
      "cell_type": "markdown",
      "metadata": {
        "id": "lLinTutQ9FnT"
      },
      "source": [
        "#### 19. Create a 8x8 matrix and fill it with a checkerboard pattern (★☆☆)"
      ]
    },
    {
      "cell_type": "code",
      "execution_count": null,
      "metadata": {
        "id": "PTkWiJHa9FnT",
        "colab": {
          "base_uri": "https://localhost:8080/"
        },
        "outputId": "d0e77e30-89b6-4e50-b89f-36b3cde653a1"
      },
      "outputs": [
        {
          "output_type": "execute_result",
          "data": {
            "text/plain": [
              "array([[1, 0, 1, 0, 1, 0, 1, 0],\n",
              "       [0, 1, 0, 1, 0, 1, 0, 1],\n",
              "       [1, 0, 1, 0, 1, 0, 1, 0],\n",
              "       [0, 1, 0, 1, 0, 1, 0, 1],\n",
              "       [1, 0, 1, 0, 1, 0, 1, 0],\n",
              "       [0, 1, 0, 1, 0, 1, 0, 1],\n",
              "       [1, 0, 1, 0, 1, 0, 1, 0],\n",
              "       [0, 1, 0, 1, 0, 1, 0, 1]])"
            ]
          },
          "metadata": {},
          "execution_count": 28
        }
      ],
      "source": [
        "J=np.zeros((8,8),dtype=int)\n",
        "J\n",
        "J[0::2,0::2]=1\n",
        "J[1::2,1::2]=1\n",
        "J"
      ]
    },
    {
      "cell_type": "code",
      "source": [],
      "metadata": {
        "id": "rAjasgb2XrCu"
      },
      "execution_count": null,
      "outputs": []
    },
    {
      "cell_type": "markdown",
      "metadata": {
        "id": "wGSHajY89FnT"
      },
      "source": [
        "#### 20. Consider a (6,7,8) shape array, what is the index (x,y,z) of the 100th element?"
      ]
    },
    {
      "cell_type": "code",
      "source": [
        "import numpy as np\n",
        "print(np.unravel_index(100, (6,7,8)))"
      ],
      "metadata": {
        "id": "y1U8gm05Xpgj",
        "colab": {
          "base_uri": "https://localhost:8080/"
        },
        "outputId": "4ddb2c27-49d6-4452-bb3a-ebddff2fe632"
      },
      "execution_count": null,
      "outputs": [
        {
          "output_type": "stream",
          "name": "stdout",
          "text": [
            "(1, 5, 4)\n"
          ]
        }
      ]
    },
    {
      "cell_type": "code",
      "execution_count": null,
      "metadata": {
        "id": "QKjMR_I09FnT",
        "colab": {
          "base_uri": "https://localhost:8080/"
        },
        "outputId": "f0aff1a8-2839-4131-b404-e028efb65017"
      },
      "outputs": [
        {
          "output_type": "execute_result",
          "data": {
            "text/plain": [
              "24"
            ]
          },
          "metadata": {},
          "execution_count": 32
        }
      ],
      "source": [
        "J=np.random.randint(1,50,size=(6,7,8))\n",
        "J[5][4][5]\n"
      ]
    },
    {
      "cell_type": "markdown",
      "metadata": {
        "id": "4srx3GK69FnT"
      },
      "source": [
        "#### 21. Create a checkerboard 8x8 matrix using the tile function (★☆☆)"
      ]
    },
    {
      "cell_type": "code",
      "execution_count": null,
      "metadata": {
        "id": "WuRrzIQv9FnT",
        "colab": {
          "base_uri": "https://localhost:8080/"
        },
        "outputId": "d5640656-989b-4a77-c485-4b66fa81466a"
      },
      "outputs": [
        {
          "output_type": "stream",
          "name": "stdout",
          "text": [
            "[[0 1 0 1 0 1 0 1]\n",
            " [1 0 1 0 1 0 1 0]\n",
            " [0 1 0 1 0 1 0 1]\n",
            " [1 0 1 0 1 0 1 0]\n",
            " [0 1 0 1 0 1 0 1]\n",
            " [1 0 1 0 1 0 1 0]\n",
            " [0 1 0 1 0 1 0 1]\n",
            " [1 0 1 0 1 0 1 0]]\n"
          ]
        }
      ],
      "source": [
        "import numpy as np\n",
        "array = np.array([[0,1], [1,0]])\n",
        "k = np.tile(array,(4,4))\n",
        "print(k)"
      ]
    },
    {
      "cell_type": "markdown",
      "metadata": {
        "id": "BSrns9RJ9FnT"
      },
      "source": [
        "22. Normalize a 5x5 random matrix (★☆☆) ***bold text***"
      ]
    },
    {
      "cell_type": "code",
      "execution_count": null,
      "metadata": {
        "id": "Gg7K-pUs9FnT",
        "colab": {
          "base_uri": "https://localhost:8080/"
        },
        "outputId": "6e81d22d-cff5-4322-a9c8-59f6e925afeb"
      },
      "outputs": [
        {
          "output_type": "stream",
          "name": "stdout",
          "text": [
            "original array:\n",
            "[[0.14604021 0.47125186 0.09112326 0.10731184 0.64273756]\n",
            " [0.4909956  0.90927871 0.82798484 0.36658107 0.2400579 ]\n",
            " [0.47127408 0.06096209 0.84795324 0.46524845 0.55168293]\n",
            " [0.18493033 0.7447461  0.51796098 0.39546142 0.56571687]\n",
            " [0.51741676 0.41929801 0.19639033 0.613016   0.05939377]]\n",
            "after normalization:\n",
            "[[0.10195079 0.48460453 0.03733386 0.05638183 0.68637972]\n",
            " [0.5078356  1.         0.90434721 0.36144575 0.21257481]\n",
            " [0.48463068 0.00184533 0.92784262 0.47754073 0.57924213]\n",
            " [0.14771006 0.80640602 0.53956387 0.39542723 0.59575487]\n",
            " [0.53892352 0.42347407 0.16119424 0.65140845 0.        ]]\n"
          ]
        }
      ],
      "source": [
        "x= np.random.random((5,5))\n",
        "print(\"original array:\")\n",
        "print(x)\n",
        "xmax, xmin = x.max(), x.min()\n",
        "x= (x - xmin)/(xmax - xmin)\n",
        "print(\"after normalization:\")\n",
        "print(x)"
      ]
    },
    {
      "cell_type": "code",
      "source": [],
      "metadata": {
        "id": "gwRarkBhcICh"
      },
      "execution_count": null,
      "outputs": []
    },
    {
      "cell_type": "markdown",
      "metadata": {
        "id": "3mTPLrTG9FnU"
      },
      "source": [
        "#### 23. Create a custom dtype that describes a color as four unsigned bytes (RGBA) (★☆☆)"
      ]
    },
    {
      "cell_type": "code",
      "execution_count": null,
      "metadata": {
        "id": "LRHWV2Qk9FnU"
      },
      "outputs": [],
      "source": [
        "color = np.dtype([(\"R\", np.ubyte),\n",
        "                  (\"G\", np.ubyte),\n",
        "                  (\"B\", np.ubyte),\n",
        "                  (\"A\", np.ubyte)])\n",
        "                   "
      ]
    },
    {
      "cell_type": "markdown",
      "metadata": {
        "id": "TM_YTVTq9FnU"
      },
      "source": [
        "#### 24. Multiply a 5x3 matrix by a 3x2 matrix (real matrix product) (★☆☆)"
      ]
    },
    {
      "cell_type": "code",
      "source": [
        "M = np.dot(np.ones((5,3)), np.ones((3,2)))\n",
        "print(M)"
      ],
      "metadata": {
        "colab": {
          "base_uri": "https://localhost:8080/"
        },
        "id": "Vyer-cJKhZdb",
        "outputId": "9b588c12-8b63-4520-b1cd-83b0bb71cc65"
      },
      "execution_count": null,
      "outputs": [
        {
          "output_type": "stream",
          "name": "stdout",
          "text": [
            "[[3. 3.]\n",
            " [3. 3.]\n",
            " [3. 3.]\n",
            " [3. 3.]\n",
            " [3. 3.]]\n"
          ]
        }
      ]
    },
    {
      "cell_type": "markdown",
      "metadata": {
        "id": "tor0i3fj9FnU"
      },
      "source": [
        "#### 25. Given a 1D array, negate all elements which are between 3 and 8, in place. (★☆☆)"
      ]
    },
    {
      "cell_type": "code",
      "source": [
        "a=np.arange(12)\n",
        "b=(a>2)&(a<9)\n",
        "a[b]*=-1\n",
        "a"
      ],
      "metadata": {
        "colab": {
          "base_uri": "https://localhost:8080/"
        },
        "id": "hWXIS6bNfh-Q",
        "outputId": "9562147e-21db-4b1c-c2ab-476c1e17ed2e"
      },
      "execution_count": null,
      "outputs": [
        {
          "output_type": "execute_result",
          "data": {
            "text/plain": [
              "array([ 0,  1,  2, -3, -4, -5, -6, -7, -8,  9, 10, 11])"
            ]
          },
          "metadata": {},
          "execution_count": 42
        }
      ]
    },
    {
      "cell_type": "markdown",
      "metadata": {
        "id": "FSw4Mwg89FnU"
      },
      "source": [
        "#### 26. What is the output of the following script? (★☆☆)\n",
        "```python\n",
        "# Author: Jake VanderPlas\n",
        "\n",
        "print(sum(range(5),-1))\n",
        "from numpy import *\n",
        "print(sum(range(5),-1))\n",
        "```"
      ]
    },
    {
      "cell_type": "code",
      "execution_count": null,
      "metadata": {
        "id": "LL8OJ8Ot9FnU",
        "colab": {
          "base_uri": "https://localhost:8080/"
        },
        "outputId": "65a176b9-0bab-478b-de57-9c97d4c75b26"
      },
      "outputs": [
        {
          "output_type": "stream",
          "name": "stdout",
          "text": [
            "9\n",
            "10\n"
          ]
        }
      ],
      "source": [
        "print(sum(range(5),-1))\n",
        "from numpy import *\n",
        "print(sum(range(5),-1))"
      ]
    },
    {
      "cell_type": "markdown",
      "metadata": {
        "id": "S_x_efEy9FnU"
      },
      "source": [
        "#### 27. Consider an integer vector Z, which of these expressions are legal? (★☆☆)\n",
        "```python\n",
        "Z**Z\n",
        "2 << Z >> 2\n",
        "Z <- Z\n",
        "1j*Z\n",
        "Z/1/1\n",
        "Z<Z>Z\n",
        "```"
      ]
    },
    {
      "cell_type": "markdown",
      "metadata": {
        "id": "QZ1v-MJy9FnU"
      },
      "source": [
        "#### 28. What are the result of the following expressions?\n",
        "```python\n",
        "np.array(0) / np.array(0)\n",
        "np.array(0) // np.array(0)\n",
        "np.array([np.nan]).astype(int).astype(float)\n",
        "```"
      ]
    },
    {
      "cell_type": "code",
      "execution_count": null,
      "metadata": {
        "id": "N5UlpLLv9FnV",
        "colab": {
          "base_uri": "https://localhost:8080/"
        },
        "outputId": "65476db8-744b-46b5-c175-a55c63e11191"
      },
      "outputs": [
        {
          "output_type": "stream",
          "name": "stdout",
          "text": [
            "nan\n",
            "0\n",
            "[-9.22337204e+18]\n"
          ]
        },
        {
          "output_type": "stream",
          "name": "stderr",
          "text": [
            "/usr/local/lib/python3.7/dist-packages/ipykernel_launcher.py:1: RuntimeWarning: invalid value encountered in true_divide\n",
            "  \"\"\"Entry point for launching an IPython kernel.\n",
            "/usr/local/lib/python3.7/dist-packages/ipykernel_launcher.py:2: RuntimeWarning: divide by zero encountered in floor_divide\n",
            "  \n"
          ]
        }
      ],
      "source": [
        "print(np.array(0) / np.array(0))\n",
        "print(np.array(0) // np.array(0))\n",
        "print(np.array([np.nan]).astype(int).astype(float))"
      ]
    },
    {
      "cell_type": "markdown",
      "metadata": {
        "id": "VW39dK3p9FnV"
      },
      "source": [
        "#### 29. How to round away from zero a float array ? (★☆☆)"
      ]
    },
    {
      "cell_type": "code",
      "source": [
        "a=np.array([1,1.7,2.8])\n",
        "print(a)\n",
        "b=np.round(a)\n",
        "print(b)"
      ],
      "metadata": {
        "colab": {
          "base_uri": "https://localhost:8080/"
        },
        "id": "9N4bYPo7kR8P",
        "outputId": "c91d860a-1208-49d5-e0fe-b2a511536241"
      },
      "execution_count": null,
      "outputs": [
        {
          "output_type": "stream",
          "name": "stdout",
          "text": [
            "[1.  1.7 2.8]\n",
            "[1. 2. 3.]\n"
          ]
        }
      ]
    },
    {
      "cell_type": "markdown",
      "metadata": {
        "id": "yQSQFfhX9FnV"
      },
      "source": [
        "\n",
        "\n",
        "```\n",
        "# This is formatted as code\n",
        "```\n",
        "\n",
        "#### 30. How to find common values between two arrays? (★☆☆)"
      ]
    },
    {
      "cell_type": "code",
      "source": [
        "a=np.array([1,2,3])\n",
        "b=np.array([2,3,4])\n",
        "c=np.intersect1d(a,b)\n",
        "c"
      ],
      "metadata": {
        "colab": {
          "base_uri": "https://localhost:8080/"
        },
        "id": "Q-R5-TwukEQs",
        "outputId": "a0e1215a-664e-46d9-c9dc-67318d03408b"
      },
      "execution_count": null,
      "outputs": [
        {
          "output_type": "execute_result",
          "data": {
            "text/plain": [
              "array([2, 3])"
            ]
          },
          "metadata": {},
          "execution_count": 50
        }
      ]
    },
    {
      "cell_type": "markdown",
      "metadata": {
        "id": "e1Vek1Uw9FnV"
      },
      "source": [
        "#### 31. How to ignore all numpy warnings (not recommended)? (★☆☆)"
      ]
    },
    {
      "cell_type": "code",
      "execution_count": null,
      "metadata": {
        "id": "dtkhlRlB9FnV",
        "colab": {
          "base_uri": "https://localhost:8080/"
        },
        "outputId": "5dcfc44c-33fb-4244-c105-d9a8a04a8704"
      },
      "outputs": [
        {
          "output_type": "stream",
          "name": "stderr",
          "text": [
            "/usr/local/lib/python3.7/dist-packages/numpy/lib/nanfunctions.py:1120: RuntimeWarning: All-NaN slice encountered\n",
            "  overwrite_input=overwrite_input)\n"
          ]
        },
        {
          "output_type": "execute_result",
          "data": {
            "text/plain": [
              "array([nan, nan, nan, nan, nan, nan, nan, nan, nan, nan])"
            ]
          },
          "metadata": {},
          "execution_count": 1
        }
      ],
      "source": [
        "import numpy as np\n",
        "data = np.random.random(1000).reshape(10,10,10) * np.nan\n",
        "np.seterr(all=\"ignore\")\n",
        "np.nanmedian(data, axis=[1,2])"
      ]
    },
    {
      "cell_type": "markdown",
      "metadata": {
        "id": "Pr00gZ_h9FnV"
      },
      "source": [
        "#### 32. Is the following expressions true? (★☆☆)\n",
        "```python\n",
        "np.sqrt(-1) == np.emath.sqrt(-1)\n",
        "```"
      ]
    },
    {
      "cell_type": "code",
      "execution_count": null,
      "metadata": {
        "id": "2U4F3sDj9FnW",
        "colab": {
          "base_uri": "https://localhost:8080/"
        },
        "outputId": "73351dfa-1749-42ca-f7a5-94fbe2e26b25"
      },
      "outputs": [
        {
          "output_type": "stream",
          "name": "stderr",
          "text": [
            "/usr/local/lib/python3.7/dist-packages/ipykernel_launcher.py:1: RuntimeWarning: invalid value encountered in sqrt\n",
            "  \"\"\"Entry point for launching an IPython kernel.\n"
          ]
        },
        {
          "output_type": "execute_result",
          "data": {
            "text/plain": [
              "False"
            ]
          },
          "metadata": {},
          "execution_count": 22
        }
      ],
      "source": [
        "np.sqrt(-1) == np.emath.sqrt(-1)"
      ]
    },
    {
      "cell_type": "markdown",
      "metadata": {
        "id": "X2yNm4Jy9FnW"
      },
      "source": [
        "#### 33. How to get the dates of yesterday, today and tomorrow? (★☆☆)"
      ]
    },
    {
      "cell_type": "code",
      "execution_count": null,
      "metadata": {
        "id": "b-wdezxD9FnW",
        "colab": {
          "base_uri": "https://localhost:8080/"
        },
        "outputId": "b5554443-07ca-4e1e-c8ca-f8d468dd94fc"
      },
      "outputs": [
        {
          "output_type": "stream",
          "name": "stdout",
          "text": [
            "2022-08-26\n",
            "2022-08-25\n",
            "2022-08-27\n"
          ]
        }
      ],
      "source": [
        "today = np.datetime64('today', 'D')\n",
        "yesterday = np.datetime64('today','D') - np.timedelta64(1, 'D')\n",
        "tomorrow = np.datetime64('today', 'D') + np.timedelta64(1, 'D')\n",
        "\n",
        "print(today)\n",
        "print(yesterday)\n",
        "print(tomorrow)"
      ]
    },
    {
      "cell_type": "code",
      "source": [
        "import time\n",
        "time_now=time.time()\n",
        "time_now"
      ],
      "metadata": {
        "colab": {
          "base_uri": "https://localhost:8080/"
        },
        "id": "5pnOoWdaPKB2",
        "outputId": "9a8a26d1-54d6-41ad-9679-e972d5edaee3"
      },
      "execution_count": null,
      "outputs": [
        {
          "output_type": "execute_result",
          "data": {
            "text/plain": [
              "1661871236.257802"
            ]
          },
          "metadata": {},
          "execution_count": 1
        }
      ]
    },
    {
      "cell_type": "markdown",
      "metadata": {
        "id": "ucRKNZCN9FnW"
      },
      "source": [
        "#### 34. How to get all the dates corresponding to the month of July 2016? (★★☆)"
      ]
    },
    {
      "cell_type": "code",
      "execution_count": null,
      "metadata": {
        "id": "WYf6Z3e99Fnd",
        "colab": {
          "base_uri": "https://localhost:8080/"
        },
        "outputId": "c49ec828-16da-424b-809f-4c2914ae0767"
      },
      "outputs": [
        {
          "output_type": "stream",
          "name": "stdout",
          "text": [
            "July, 2016\n",
            "['2016-07-01' '2016-07-02' '2016-07-03' '2016-07-04' '2016-07-05'\n",
            " '2016-07-06' '2016-07-07' '2016-07-08' '2016-07-09' '2016-07-10'\n",
            " '2016-07-11' '2016-07-12' '2016-07-13' '2016-07-14' '2016-07-15'\n",
            " '2016-07-16' '2016-07-17' '2016-07-18' '2016-07-19' '2016-07-20'\n",
            " '2016-07-21' '2016-07-22' '2016-07-23' '2016-07-24' '2016-07-25'\n",
            " '2016-07-26' '2016-07-27' '2016-07-28' '2016-07-29' '2016-07-30'\n",
            " '2016-07-31']\n"
          ]
        }
      ],
      "source": [
        "import numpy as np\n",
        "print('July, 2016')\n",
        "print(np.arange('2016-07', '2016-08', dtype='datetime64[D]'))"
      ]
    },
    {
      "cell_type": "markdown",
      "metadata": {
        "id": "DgRgFnEx9Fnd"
      },
      "source": [
        "#### 35. How to compute ((A+B)*(-A/2)) in place (without copy)? (★★☆)"
      ]
    },
    {
      "cell_type": "code",
      "source": [
        "A=3\n",
        "B=6\n",
        "exp= ((A+B)*(-A/2)) \n",
        "exp"
      ],
      "metadata": {
        "colab": {
          "base_uri": "https://localhost:8080/"
        },
        "id": "b3qNau2hQYvk",
        "outputId": "04e20b2d-9c4a-4fae-e2d6-caadc0ff8ce5"
      },
      "execution_count": null,
      "outputs": [
        {
          "output_type": "execute_result",
          "data": {
            "text/plain": [
              "-13.5"
            ]
          },
          "metadata": {},
          "execution_count": 2
        }
      ]
    },
    {
      "cell_type": "markdown",
      "metadata": {
        "id": "SdfxkFn19Fnd"
      },
      "source": [
        "#### 36. Extract the integer part of a random array of positive numbers using 4 different methods (★★☆)"
      ]
    },
    {
      "cell_type": "code",
      "execution_count": null,
      "metadata": {
        "id": "hZ9SqSO39Fnd",
        "colab": {
          "base_uri": "https://localhost:8080/"
        },
        "outputId": "265e2841-5740-4ea0-9103-9d26aca7237c"
      },
      "outputs": [
        {
          "output_type": "stream",
          "name": "stdout",
          "text": [
            "[8.71466856 6.54400501 3.55998063 8.65994635 8.15656811]\n",
            "[8. 6. 3. 8. 8.]\n",
            "[8 6 3 8 8]\n",
            "[8. 6. 3. 8. 8.]\n",
            "[8. 6. 3. 8. 8.]\n"
          ]
        }
      ],
      "source": [
        "z = np.random.uniform(0,10,5)\n",
        "print(z)\n",
        "print(z-z%1)\n",
        "print(z.astype(int))\n",
        "print(z//1)\n",
        "print(np.floor(z))"
      ]
    },
    {
      "cell_type": "markdown",
      "metadata": {
        "id": "ZJzaBGqS9Fnd"
      },
      "source": [
        "#### 37. Create a 5x5 matrix with row values ranging from 0 to 4 (★★☆)"
      ]
    },
    {
      "cell_type": "code",
      "source": [
        "import numpy as np\n",
        "arr5=np.random.randint(0,4,size=(5,5))\n",
        "arr5"
      ],
      "metadata": {
        "colab": {
          "base_uri": "https://localhost:8080/"
        },
        "id": "8H8lIL1-R6pS",
        "outputId": "2383d962-427a-4f77-982d-0182a4a406a7"
      },
      "execution_count": null,
      "outputs": [
        {
          "output_type": "execute_result",
          "data": {
            "text/plain": [
              "array([[1, 2, 1, 2, 3],\n",
              "       [3, 2, 0, 1, 0],\n",
              "       [0, 1, 0, 0, 3],\n",
              "       [3, 3, 1, 2, 2],\n",
              "       [3, 3, 1, 3, 1]])"
            ]
          },
          "metadata": {},
          "execution_count": 6
        }
      ]
    },
    {
      "cell_type": "markdown",
      "metadata": {
        "id": "kK8nyxdT9Fnd"
      },
      "source": [
        "#### 38. Consider a generator function that generates 10 integers and use it to build an array (★☆☆)"
      ]
    },
    {
      "cell_type": "code",
      "execution_count": null,
      "metadata": {
        "id": "qDMcNIkj9Fne",
        "colab": {
          "base_uri": "https://localhost:8080/"
        },
        "outputId": "608a3239-445d-4953-96f1-50b7fd7bc88f"
      },
      "outputs": [
        {
          "output_type": "stream",
          "name": "stdout",
          "text": [
            "[[3 1 2 0 2]\n",
            " [3 2 3 3 0]\n",
            " [1 0 3 2 0]\n",
            " [3 0 1 2 1]\n",
            " [1 1 3 0 2]]\n"
          ]
        }
      ],
      "source": [
        "def generate ():\n",
        "  for i in range(10):\n",
        "    yield x\n",
        "  z = np.romiter(generate(),dtype=float,count=-1)\n",
        "  print(z)\n",
        "\n",
        "def generate1 ():\n",
        "  return np.random.randint(0,50,10)\n",
        "  z = np.array(generate1(),dtype=np.float64)\n",
        "print(z)"
      ]
    },
    {
      "cell_type": "code",
      "source": [
        "def generator_func():\n",
        "  lst=[]\n",
        "  for i in range(10):\n",
        "    n1=int(input())\n",
        "    lst.append(n1)\n",
        "    arr=np.array(lst)\n",
        "  return arr\n",
        "generator_func()"
      ],
      "metadata": {
        "colab": {
          "base_uri": "https://localhost:8080/"
        },
        "id": "5rDOvzBDTbOW",
        "outputId": "d9160a2f-626f-4df8-bf90-c62af93cb850"
      },
      "execution_count": null,
      "outputs": [
        {
          "name": "stdout",
          "output_type": "stream",
          "text": [
            "1\n",
            "2\n",
            "3\n",
            "4\n",
            "5\n",
            "6\n",
            "7\n",
            "8\n",
            "9\n",
            "10\n"
          ]
        },
        {
          "output_type": "execute_result",
          "data": {
            "text/plain": [
              "array([ 1,  2,  3,  4,  5,  6,  7,  8,  9, 10])"
            ]
          },
          "metadata": {},
          "execution_count": 9
        }
      ]
    },
    {
      "cell_type": "markdown",
      "metadata": {
        "id": "GjinkH1H9Fne"
      },
      "source": [
        "\n",
        "\n",
        "39. Create a vector of size 10 with values ranging from 0 to 1, both excluded (★★☆)"
      ]
    },
    {
      "cell_type": "code",
      "execution_count": null,
      "metadata": {
        "id": "B4Y8CBpU9Fne",
        "colab": {
          "base_uri": "https://localhost:8080/"
        },
        "outputId": "0add1254-f87d-4194-b98c-e9fcb46a1238"
      },
      "outputs": [
        {
          "output_type": "stream",
          "name": "stdout",
          "text": [
            "[0.09090909 0.18181818 0.27272727 0.36363636 0.45454545 0.54545455\n",
            " 0.63636364 0.72727273 0.81818182 0.90909091]\n",
            "[0.42663245 0.83545601 0.80248327 0.51496534 0.73902    0.2342618\n",
            " 0.05626501 0.3694     0.75374769 0.96391516]\n"
          ]
        }
      ],
      "source": [
        "z = np.linspace(0,1,11,endpoint=False)[1:]\n",
        "print(z)\n",
        "\n",
        "z = np.random.rand(10)\n",
        "print(z)"
      ]
    },
    {
      "cell_type": "markdown",
      "metadata": {
        "id": "H8U2VvBT9Fne"
      },
      "source": [
        "#### 40. Create a random vector of size 10 and sort it (★★☆)"
      ]
    },
    {
      "cell_type": "code",
      "execution_count": null,
      "metadata": {
        "id": "j9svLzS39Fne"
      },
      "outputs": [],
      "source": [
        "import numpy as np\n",
        "x = np.random.random(10)\n",
        "print('original array:')\n",
        "print(x)\n",
        "x.sort()\n",
        "print('sorted array:')\n",
        "print(x)"
      ]
    },
    {
      "cell_type": "markdown",
      "metadata": {
        "id": "HqVk4YGE9Fne"
      },
      "source": [
        "#### 41. How to sum a small array faster than np.sum? (★★☆)"
      ]
    },
    {
      "cell_type": "code",
      "execution_count": null,
      "metadata": {
        "id": "6WG-2HER9Fne",
        "colab": {
          "base_uri": "https://localhost:8080/"
        },
        "outputId": "58a21619-37dd-4ace-91ef-048391f7eee6"
      },
      "outputs": [
        {
          "output_type": "execute_result",
          "data": {
            "text/plain": [
              "45"
            ]
          },
          "metadata": {},
          "execution_count": 41
        }
      ],
      "source": [
        "z = np.arange(10)\n",
        "np.add.reduce(z)"
      ]
    },
    {
      "cell_type": "markdown",
      "metadata": {
        "id": "JQW9tNOs9Fne"
      },
      "source": [
        "#### 42. Consider two random array A and B, check if they are equal (★★☆)"
      ]
    },
    {
      "cell_type": "code",
      "execution_count": null,
      "metadata": {
        "id": "m2FuqRPN9Fne",
        "colab": {
          "base_uri": "https://localhost:8080/"
        },
        "outputId": "3f0fbf93-aca2-41ce-a00a-525ad496860b"
      },
      "outputs": [
        {
          "output_type": "stream",
          "name": "stdout",
          "text": [
            "False\n"
          ]
        }
      ],
      "source": [
        "A = np.array([5,2,4,6,4,13,5,5])\n",
        "B = np.array([5,2,9,7,6,4,6])\n",
        "\n",
        "equal = np.array_equal(A,B)\n",
        "print(equal)"
      ]
    },
    {
      "cell_type": "markdown",
      "metadata": {
        "id": "k8jh8p3J9Fne"
      },
      "source": [
        "#### 43. Make an array immutable (read-only) (★★☆)"
      ]
    },
    {
      "cell_type": "code",
      "source": [
        "z = np.zeros(10)\n",
        "z.flags.writeable = False\n",
        "z[0] = 1"
      ],
      "metadata": {
        "colab": {
          "base_uri": "https://localhost:8080/",
          "height": 209
        },
        "id": "zaPoJz7RXszR",
        "outputId": "8c94f2df-2372-4c5a-9033-2b23b4153eca"
      },
      "execution_count": null,
      "outputs": [
        {
          "output_type": "error",
          "ename": "ValueError",
          "evalue": "ignored",
          "traceback": [
            "\u001b[0;31m---------------------------------------------------------------------------\u001b[0m",
            "\u001b[0;31mValueError\u001b[0m                                Traceback (most recent call last)",
            "\u001b[0;32m<ipython-input-13-e7ca576a283b>\u001b[0m in \u001b[0;36m<module>\u001b[0;34m\u001b[0m\n\u001b[1;32m      1\u001b[0m \u001b[0mz\u001b[0m \u001b[0;34m=\u001b[0m \u001b[0mnp\u001b[0m\u001b[0;34m.\u001b[0m\u001b[0mzeros\u001b[0m\u001b[0;34m(\u001b[0m\u001b[0;36m10\u001b[0m\u001b[0;34m)\u001b[0m\u001b[0;34m\u001b[0m\u001b[0;34m\u001b[0m\u001b[0m\n\u001b[1;32m      2\u001b[0m \u001b[0mz\u001b[0m\u001b[0;34m.\u001b[0m\u001b[0mflags\u001b[0m\u001b[0;34m.\u001b[0m\u001b[0mwriteable\u001b[0m \u001b[0;34m=\u001b[0m \u001b[0;32mFalse\u001b[0m\u001b[0;34m\u001b[0m\u001b[0;34m\u001b[0m\u001b[0m\n\u001b[0;32m----> 3\u001b[0;31m \u001b[0mz\u001b[0m\u001b[0;34m[\u001b[0m\u001b[0;36m0\u001b[0m\u001b[0;34m]\u001b[0m \u001b[0;34m=\u001b[0m \u001b[0;36m1\u001b[0m\u001b[0;34m\u001b[0m\u001b[0;34m\u001b[0m\u001b[0m\n\u001b[0m",
            "\u001b[0;31mValueError\u001b[0m: assignment destination is read-only"
          ]
        }
      ]
    },
    {
      "cell_type": "markdown",
      "metadata": {
        "id": "Xh9P2qb99Fne"
      },
      "source": [
        "#### 44. Consider a random 10x2 matrix representing cartesian coordinates, convert them to polar coordinates (★★☆)"
      ]
    },
    {
      "cell_type": "code",
      "execution_count": null,
      "metadata": {
        "id": "izSSDRwl9Fnf",
        "colab": {
          "base_uri": "https://localhost:8080/"
        },
        "outputId": "0b062f63-e759-4fbb-d788-c8d57c70ce5c"
      },
      "outputs": [
        {
          "output_type": "stream",
          "name": "stdout",
          "text": [
            "[0.80624403 1.08053858 0.80575991 1.13772021 0.59392622 1.3596294\n",
            " 1.07343765 1.15191821 0.93324931 0.5374707 ]\n"
          ]
        }
      ],
      "source": [
        "import numpy as np\n",
        "z=np.random.random((10,2))\n",
        "x,y = z[:,0],z[:,1]\n",
        "r = np.sqrt(x**2+y**2)\n",
        "t = np.arctan2(x,y)\n",
        "print(r)"
      ]
    },
    {
      "cell_type": "markdown",
      "metadata": {
        "id": "fZt0rs2v9Fnf"
      },
      "source": [
        "#### 45. Create random vector of size 10 and replace the maximum value by 0 (★★☆)"
      ]
    },
    {
      "cell_type": "code",
      "execution_count": null,
      "metadata": {
        "id": "lodNw8Eq9Fnf",
        "colab": {
          "base_uri": "https://localhost:8080/"
        },
        "outputId": "a709bc9a-4bde-495f-aac4-0215d883b6df"
      },
      "outputs": [
        {
          "output_type": "stream",
          "name": "stdout",
          "text": [
            "9\n",
            "[0 1 2 3 4 5 6 7 8 0]\n"
          ]
        }
      ],
      "source": [
        "z = np.arange(10)\n",
        "max(z)\n",
        "print(z.argmax())\n",
        "z[9] = 0\n",
        "print(z)"
      ]
    },
    {
      "cell_type": "markdown",
      "metadata": {
        "id": "2cp4YK6y9Fnf"
      },
      "source": [
        "\n",
        "\n",
        "```\n",
        "# This is formatted as code\n",
        "```\n",
        "\n",
        "#### 46. Create a structured array with `x` and `y` coordinates covering the [0,1]x[0,1] area (★★☆)"
      ]
    },
    {
      "cell_type": "code",
      "execution_count": null,
      "metadata": {
        "id": "Elf0ZR9j9Fnf",
        "colab": {
          "base_uri": "https://localhost:8080/"
        },
        "outputId": "d5e41d1f-0f4f-44d1-c909-3f4a37fdb358"
      },
      "outputs": [
        {
          "output_type": "stream",
          "name": "stdout",
          "text": [
            "[[(0.        , 0.        ) (0.11111111, 0.        )\n",
            "  (0.22222222, 0.        ) (0.33333333, 0.        )\n",
            "  (0.44444444, 0.        ) (0.55555556, 0.        )\n",
            "  (0.66666667, 0.        ) (0.77777778, 0.        )\n",
            "  (0.88888889, 0.        ) (1.        , 0.        )]\n",
            " [(0.        , 0.11111111) (0.11111111, 0.11111111)\n",
            "  (0.22222222, 0.11111111) (0.33333333, 0.11111111)\n",
            "  (0.44444444, 0.11111111) (0.55555556, 0.11111111)\n",
            "  (0.66666667, 0.11111111) (0.77777778, 0.11111111)\n",
            "  (0.88888889, 0.11111111) (1.        , 0.11111111)]\n",
            " [(0.        , 0.22222222) (0.11111111, 0.22222222)\n",
            "  (0.22222222, 0.22222222) (0.33333333, 0.22222222)\n",
            "  (0.44444444, 0.22222222) (0.55555556, 0.22222222)\n",
            "  (0.66666667, 0.22222222) (0.77777778, 0.22222222)\n",
            "  (0.88888889, 0.22222222) (1.        , 0.22222222)]\n",
            " [(0.        , 0.33333333) (0.11111111, 0.33333333)\n",
            "  (0.22222222, 0.33333333) (0.33333333, 0.33333333)\n",
            "  (0.44444444, 0.33333333) (0.55555556, 0.33333333)\n",
            "  (0.66666667, 0.33333333) (0.77777778, 0.33333333)\n",
            "  (0.88888889, 0.33333333) (1.        , 0.33333333)]\n",
            " [(0.        , 0.44444444) (0.11111111, 0.44444444)\n",
            "  (0.22222222, 0.44444444) (0.33333333, 0.44444444)\n",
            "  (0.44444444, 0.44444444) (0.55555556, 0.44444444)\n",
            "  (0.66666667, 0.44444444) (0.77777778, 0.44444444)\n",
            "  (0.88888889, 0.44444444) (1.        , 0.44444444)]\n",
            " [(0.        , 0.55555556) (0.11111111, 0.55555556)\n",
            "  (0.22222222, 0.55555556) (0.33333333, 0.55555556)\n",
            "  (0.44444444, 0.55555556) (0.55555556, 0.55555556)\n",
            "  (0.66666667, 0.55555556) (0.77777778, 0.55555556)\n",
            "  (0.88888889, 0.55555556) (1.        , 0.55555556)]\n",
            " [(0.        , 0.66666667) (0.11111111, 0.66666667)\n",
            "  (0.22222222, 0.66666667) (0.33333333, 0.66666667)\n",
            "  (0.44444444, 0.66666667) (0.55555556, 0.66666667)\n",
            "  (0.66666667, 0.66666667) (0.77777778, 0.66666667)\n",
            "  (0.88888889, 0.66666667) (1.        , 0.66666667)]\n",
            " [(0.        , 0.77777778) (0.11111111, 0.77777778)\n",
            "  (0.22222222, 0.77777778) (0.33333333, 0.77777778)\n",
            "  (0.44444444, 0.77777778) (0.55555556, 0.77777778)\n",
            "  (0.66666667, 0.77777778) (0.77777778, 0.77777778)\n",
            "  (0.88888889, 0.77777778) (1.        , 0.77777778)]\n",
            " [(0.        , 0.88888889) (0.11111111, 0.88888889)\n",
            "  (0.22222222, 0.88888889) (0.33333333, 0.88888889)\n",
            "  (0.44444444, 0.88888889) (0.55555556, 0.88888889)\n",
            "  (0.66666667, 0.88888889) (0.77777778, 0.88888889)\n",
            "  (0.88888889, 0.88888889) (1.        , 0.88888889)]\n",
            " [(0.        , 1.        ) (0.11111111, 1.        )\n",
            "  (0.22222222, 1.        ) (0.33333333, 1.        )\n",
            "  (0.44444444, 1.        ) (0.55555556, 1.        )\n",
            "  (0.66666667, 1.        ) (0.77777778, 1.        )\n",
            "  (0.88888889, 1.        ) (1.        , 1.        )]]\n"
          ]
        }
      ],
      "source": [
        "Z = np.zeros((10,10), [('x',float),('y',float)])\n",
        "Z['x'], Z['y'] = np.meshgrid(np.linspace(0,1,10),\n",
        "                             np.linspace(0,1,10))\n",
        "print(Z)"
      ]
    },
    {
      "cell_type": "markdown",
      "metadata": {
        "id": "4zyILOup9Fnf"
      },
      "source": [
        "#### 47. Given two arrays, X and Y, construct the Cauchy matrix C (Cij =1/(xi - yj))"
      ]
    },
    {
      "cell_type": "code",
      "execution_count": null,
      "metadata": {
        "id": "1KRhoCLh9Fnf",
        "colab": {
          "base_uri": "https://localhost:8080/"
        },
        "outputId": "7d196dbd-b2d4-4e0f-9b52-3862b3a9fed5"
      },
      "outputs": [
        {
          "output_type": "stream",
          "name": "stdout",
          "text": [
            "3638.163637117973\n"
          ]
        }
      ],
      "source": [
        "X = np.arange(8)\n",
        "Y = X + 0.5\n",
        "C = 1.0 / np.subtract.outer(X,Y)\n",
        "print(np.linalg.det(C))"
      ]
    },
    {
      "cell_type": "markdown",
      "metadata": {
        "id": "yhMEiJRz9Fnf"
      },
      "source": [
        "#### 48. Print the minimum and maximum representable value for each numpy scalar type (★★☆)"
      ]
    },
    {
      "cell_type": "code",
      "execution_count": null,
      "metadata": {
        "id": "bhXKjZE69Fnf",
        "colab": {
          "base_uri": "https://localhost:8080/"
        },
        "outputId": "20205623-cafa-494b-8691-a851088c9947"
      },
      "outputs": [
        {
          "output_type": "stream",
          "name": "stdout",
          "text": [
            "-128\n",
            "127\n",
            "-2147483648\n",
            "2147483647\n",
            "-9223372036854775808\n",
            "9223372036854775807\n",
            "-3.4028235e+38\n",
            "3.4028235e+38\n",
            "1.1920929e-07\n",
            "-1.7976931348623157e+308\n",
            "1.7976931348623157e+308\n",
            "2.220446049250313e-16\n"
          ]
        }
      ],
      "source": [
        "for dtype in [np.int8, np.int32, np.int64]:\n",
        "  print(np.iinfo(dtype).min)  \n",
        "  print(np.iinfo(dtype).max)\n",
        "for dtype in [np.float32, np.float64]:\n",
        "  print(np.finfo(dtype).min)\n",
        "  print(np.finfo(dtype).max)\n",
        "  print(np.finfo(dtype).eps)"
      ]
    },
    {
      "cell_type": "markdown",
      "metadata": {
        "id": "hvqQr1nb9Fnf"
      },
      "source": [
        "#### 49. How to print all the values of an array? (★★☆)"
      ]
    },
    {
      "cell_type": "code",
      "source": [
        "np.set_printoptions(threshold=float(\"inf\"))\n",
        "Z = np.zeros((10,10))\n",
        "print(Z)"
      ],
      "metadata": {
        "colab": {
          "base_uri": "https://localhost:8080/"
        },
        "id": "6d2lDN4oY3zT",
        "outputId": "1be82894-ac6d-4d64-cf20-b518c2d31367"
      },
      "execution_count": null,
      "outputs": [
        {
          "output_type": "stream",
          "name": "stdout",
          "text": [
            "[[0. 0. 0. 0. 0. 0. 0. 0. 0. 0.]\n",
            " [0. 0. 0. 0. 0. 0. 0. 0. 0. 0.]\n",
            " [0. 0. 0. 0. 0. 0. 0. 0. 0. 0.]\n",
            " [0. 0. 0. 0. 0. 0. 0. 0. 0. 0.]\n",
            " [0. 0. 0. 0. 0. 0. 0. 0. 0. 0.]\n",
            " [0. 0. 0. 0. 0. 0. 0. 0. 0. 0.]\n",
            " [0. 0. 0. 0. 0. 0. 0. 0. 0. 0.]\n",
            " [0. 0. 0. 0. 0. 0. 0. 0. 0. 0.]\n",
            " [0. 0. 0. 0. 0. 0. 0. 0. 0. 0.]\n",
            " [0. 0. 0. 0. 0. 0. 0. 0. 0. 0.]]\n"
          ]
        }
      ]
    },
    {
      "cell_type": "markdown",
      "metadata": {
        "id": "_h8cVe1f9Fnf"
      },
      "source": [
        "#### 50. How to find the closest value (to a given scalar) in a vector? (★★☆)"
      ]
    },
    {
      "cell_type": "code",
      "execution_count": null,
      "metadata": {
        "id": "RGYN-7Vl9Fng",
        "colab": {
          "base_uri": "https://localhost:8080/"
        },
        "outputId": "03d9d9e6-70b9-4c28-fde7-b1ad661a59e9"
      },
      "outputs": [
        {
          "output_type": "stream",
          "name": "stdout",
          "text": [
            "13\n"
          ]
        }
      ],
      "source": [
        "z = np.arange(100)\n",
        "v = np.random.uniform(0,100)\n",
        "index = (np.abs(z-v)).argmin()\n",
        "print(z[index])"
      ]
    },
    {
      "cell_type": "markdown",
      "metadata": {
        "id": "OD9xUtEW9Fng"
      },
      "source": [
        "#### 51. Create a structured array representing a position (x,y) and a color (r,g,b) (★★☆)"
      ]
    },
    {
      "cell_type": "code",
      "execution_count": null,
      "metadata": {
        "id": "It8lZ5tW9Fng",
        "colab": {
          "base_uri": "https://localhost:8080/"
        },
        "outputId": "9a0925fc-4255-45af-9d7e-132f1e7ea531"
      },
      "outputs": [
        {
          "output_type": "stream",
          "name": "stderr",
          "text": [
            "/usr/local/lib/python3.7/dist-packages/ipykernel_launcher.py:6: FutureWarning: Passing (type, 1) or '1type' as a synonym of type is deprecated; in a future version of numpy, it will be understood as (type, (1,)) / '(1,)type'.\n",
            "  \n"
          ]
        }
      ],
      "source": [
        "import numpy as np\n",
        "p = np.zeros(10, [ ('position', [ ('x', float, 1),\n",
        "                                   ('y', float, 1)]),\n",
        "                    ('color',    [ ('r', float, 1),\n",
        "                                   ('g', float, 1),\n",
        "                                   ('b', float, 1)])])"
      ]
    },
    {
      "cell_type": "markdown",
      "metadata": {
        "id": "7MysZRjH9Fng"
      },
      "source": [
        "#### 52. Consider a random vector with shape (100,2) representing coordinates, find point by point distances (★★☆)"
      ]
    },
    {
      "cell_type": "code",
      "execution_count": null,
      "metadata": {
        "id": "Gaq0Fojo9Fng",
        "colab": {
          "base_uri": "https://localhost:8080/"
        },
        "outputId": "6d441f08-5630-4870-dfd4-4b48ff076c59"
      },
      "outputs": [
        {
          "output_type": "stream",
          "name": "stdout",
          "text": [
            "[[0.         0.78443043 0.27626938 0.16755456 0.18049833 0.91227299\n",
            "  0.64294568 0.52913234 0.36338418 0.6060649 ]\n",
            " [0.78443043 0.         0.6774004  0.86241856 0.95343524 0.80401654\n",
            "  0.14150855 0.51352082 0.76908676 0.21852927]\n",
            " [0.27626938 0.6774004  0.         0.22628265 0.35461545 0.63614927\n",
            "  0.54772467 0.62997885 0.12638573 0.46399707]\n",
            " [0.16755456 0.86241856 0.22628265 0.         0.13316099 0.83156913\n",
            "  0.72418195 0.68257804 0.25411618 0.66136296]\n",
            " [0.18049833 0.95343524 0.35461545 0.13316099 0.         0.96396816\n",
            "  0.81259761 0.7032296  0.38586193 0.76343332]\n",
            " [0.91227299 0.80401654 0.63614927 0.83156913 0.96396816 0.\n",
            "  0.76976924 1.10463166 0.57822041 0.65106037]\n",
            " [0.64294568 0.14150855 0.54772467 0.72418195 0.81259761 0.76976924\n",
            "  0.         0.4172077  0.64753563 0.12227133]\n",
            " [0.52913234 0.51352082 0.62997885 0.68257804 0.7032296  1.10463166\n",
            "  0.4172077  0.         0.7563492  0.49333314]\n",
            " [0.36338418 0.76908676 0.12638573 0.25411618 0.38586193 0.57822041\n",
            "  0.64753563 0.7563492  0.         0.55107788]\n",
            " [0.6060649  0.21852927 0.46399707 0.66136296 0.76343332 0.65106037\n",
            "  0.12227133 0.49333314 0.55107788 0.        ]]\n",
            "[[0.         0.80349564 0.02366013 0.57433834 0.3358993  0.26365192\n",
            "  0.65149121 0.76207583 0.50575712 0.62965713]\n",
            " [0.80349564 0.         0.79940268 0.33100096 0.96096571 0.73750068\n",
            "  0.88032592 0.35604396 0.35332325 0.51326276]\n",
            " [0.02366013 0.79940268 0.         0.57869656 0.31532849 0.28343987\n",
            "  0.62794726 0.76866766 0.5089251  0.64142483]\n",
            " [0.57433834 0.33100096 0.57869656 0.         0.82493215 0.43436912\n",
            "  0.89718776 0.19957979 0.07447819 0.21045502]\n",
            " [0.3358993  0.96096571 0.31532849 0.82493215 0.         0.59873248\n",
            "  0.41851815 1.0240645  0.7505487  0.93060078]\n",
            " [0.26365192 0.73750068 0.28343987 0.43436912 0.59873248 0.\n",
            "  0.86966921 0.58536613 0.38775134 0.41082947]\n",
            " [0.65149121 0.88032592 0.62794726 0.89718776 0.41851815 0.86966921\n",
            "  0.         1.08320154 0.83026521 1.07036674]\n",
            " [0.76207583 0.35604396 0.76866766 0.19957979 1.0240645  0.58536613\n",
            "  1.08320154 0.         0.2740389  0.21055114]\n",
            " [0.50575712 0.35332325 0.5089251  0.07447819 0.7505487  0.38775134\n",
            "  0.83026521 0.2740389  0.         0.25288391]\n",
            " [0.62965713 0.51326276 0.64142483 0.21045502 0.93060078 0.41082947\n",
            "  1.07036674 0.21055114 0.25288391 0.        ]]\n"
          ]
        }
      ],
      "source": [
        "Z = np.random.random((10,2))\n",
        "X,Y = np.atleast_2d(Z[:,0]), np.atleast_2d(Z[:,1])\n",
        "D = np.sqrt( (X-X.T)**2 + (Y-Y.T)**2)\n",
        "print(D)\n",
        "\n",
        "# Much faster with scipy\n",
        "import scipy\n",
        "# Thanks Gavin Heverly-Coulson (#issue 1)\n",
        "import scipy.spatial\n",
        "\n",
        "Z = np.random.random((10,2))\n",
        "D = scipy.spatial.distance.cdist(Z,Z)\n",
        "print(D)"
      ]
    },
    {
      "cell_type": "markdown",
      "metadata": {
        "id": "WF8AFxC49Fng"
      },
      "source": [
        "#### 53. How to convert a float (32 bits) array into an integer (32 bits) in place?"
      ]
    },
    {
      "cell_type": "code",
      "execution_count": null,
      "metadata": {
        "id": "7fBDVA4U9Fng"
      },
      "outputs": [],
      "source": [
        "Z = np.arange(10, dtype=np.int32)\n",
        "Z = Z.astype(np.float32, copy=False)"
      ]
    },
    {
      "cell_type": "markdown",
      "metadata": {
        "id": "8zE4HyPC9Fng"
      },
      "source": [
        "#### 54. How to read the following file? (★★☆)\n",
        "```\n",
        "1, 2, 3, 4, 5\n",
        "6,  ,  , 7, 8\n",
        " ,  , 9,10,11\n",
        "```"
      ]
    },
    {
      "cell_type": "code",
      "execution_count": null,
      "metadata": {
        "id": "zYnfIh7H9Fng",
        "colab": {
          "base_uri": "https://localhost:8080/"
        },
        "outputId": "1a97e688-5256-4b20-b9a0-14a2a0bbf0e7"
      },
      "outputs": [
        {
          "output_type": "stream",
          "name": "stdout",
          "text": [
            "[[ 1  2  3  4  5]\n",
            " [ 6 -1 -1  7  8]\n",
            " [-1 -1  9 10 11]]\n"
          ]
        },
        {
          "output_type": "stream",
          "name": "stderr",
          "text": [
            "/usr/local/lib/python3.7/dist-packages/ipykernel_launcher.py:8: DeprecationWarning: `np.int` is a deprecated alias for the builtin `int`. To silence this warning, use `int` by itself. Doing this will not modify any behavior and is safe. When replacing `np.int`, you may wish to use e.g. `np.int64` or `np.int32` to specify the precision. If you wish to review your current use, check the release note link for additional information.\n",
            "Deprecated in NumPy 1.20; for more details and guidance: https://numpy.org/devdocs/release/1.20.0-notes.html#deprecations\n",
            "  \n"
          ]
        }
      ],
      "source": [
        "from io import StringIO\n",
        "\n",
        "# Fake file\n",
        "s = StringIO('''1, 2, 3, 4, 5\n",
        "                6,  ,  , 7, 8\n",
        "                 ,  , 9,10,11\n",
        "''')\n",
        "Z = np.genfromtxt(s, delimiter=\",\", dtype=np.int)\n",
        "print(Z)"
      ]
    },
    {
      "cell_type": "markdown",
      "metadata": {
        "id": "be67n_R49Fng"
      },
      "source": [
        "#### 55. What is the equivalent of enumerate for numpy arrays? (★★☆)"
      ]
    },
    {
      "cell_type": "code",
      "execution_count": null,
      "metadata": {
        "id": "-FPUbDQy9Fnh",
        "colab": {
          "base_uri": "https://localhost:8080/"
        },
        "outputId": "3f05c6cb-3d61-4a9d-cf04-7c76d4695af5"
      },
      "outputs": [
        {
          "output_type": "stream",
          "name": "stdout",
          "text": [
            "(0, 0) 0\n",
            "(0, 1) 1\n",
            "(0, 2) 2\n",
            "(1, 0) 3\n",
            "(1, 1) 4\n",
            "(1, 2) 5\n",
            "(2, 0) 6\n",
            "(2, 1) 7\n",
            "(2, 2) 8\n",
            "(0, 0) 0\n",
            "(0, 1) 1\n",
            "(0, 2) 2\n",
            "(1, 0) 3\n",
            "(1, 1) 4\n",
            "(1, 2) 5\n",
            "(2, 0) 6\n",
            "(2, 1) 7\n",
            "(2, 2) 8\n"
          ]
        }
      ],
      "source": [
        "import numpy as np\n",
        "Z = np.arange(9).reshape(3,3)\n",
        "for index, value in np.ndenumerate(Z):\n",
        "    print(index, value)\n",
        "for index in np.ndindex(Z.shape):\n",
        "    print(index, Z[index])"
      ]
    },
    {
      "cell_type": "markdown",
      "metadata": {
        "id": "cwkgFNoA9Fnh"
      },
      "source": [
        "\n",
        "\n",
        "```\n",
        "# This is formatted as code\n",
        "```\n",
        "\n",
        "#### 56. Generate a generic 2D Gaussian-like array (★★☆)"
      ]
    },
    {
      "cell_type": "code",
      "execution_count": null,
      "metadata": {
        "id": "PzQzTE2f9Fnh",
        "colab": {
          "base_uri": "https://localhost:8080/"
        },
        "outputId": "6246a5cd-8e32-4c30-f9d7-5148fec920cb"
      },
      "outputs": [
        {
          "output_type": "stream",
          "name": "stdout",
          "text": [
            "[[0.36787944 0.44822088 0.51979489 0.57375342 0.60279818 0.60279818\n",
            "  0.57375342 0.51979489 0.44822088 0.36787944]\n",
            " [0.44822088 0.54610814 0.63331324 0.69905581 0.73444367 0.73444367\n",
            "  0.69905581 0.63331324 0.54610814 0.44822088]\n",
            " [0.51979489 0.63331324 0.73444367 0.81068432 0.85172308 0.85172308\n",
            "  0.81068432 0.73444367 0.63331324 0.51979489]\n",
            " [0.57375342 0.69905581 0.81068432 0.89483932 0.9401382  0.9401382\n",
            "  0.89483932 0.81068432 0.69905581 0.57375342]\n",
            " [0.60279818 0.73444367 0.85172308 0.9401382  0.98773022 0.98773022\n",
            "  0.9401382  0.85172308 0.73444367 0.60279818]\n",
            " [0.60279818 0.73444367 0.85172308 0.9401382  0.98773022 0.98773022\n",
            "  0.9401382  0.85172308 0.73444367 0.60279818]\n",
            " [0.57375342 0.69905581 0.81068432 0.89483932 0.9401382  0.9401382\n",
            "  0.89483932 0.81068432 0.69905581 0.57375342]\n",
            " [0.51979489 0.63331324 0.73444367 0.81068432 0.85172308 0.85172308\n",
            "  0.81068432 0.73444367 0.63331324 0.51979489]\n",
            " [0.44822088 0.54610814 0.63331324 0.69905581 0.73444367 0.73444367\n",
            "  0.69905581 0.63331324 0.54610814 0.44822088]\n",
            " [0.36787944 0.44822088 0.51979489 0.57375342 0.60279818 0.60279818\n",
            "  0.57375342 0.51979489 0.44822088 0.36787944]]\n"
          ]
        }
      ],
      "source": [
        "import numpy as np\n",
        "x, y = np.meshgrid(np.linspace(-1,1,10),np.linspace(-1,1,10))\n",
        "d = np.sqrt(x*x+y*y)\n",
        "sigma, mu = 1.0, 0.0\n",
        "g = np.exp (-( (d-mu)**2 / (2.0 * sigma**2  ) ) )\n",
        "print(g)"
      ]
    },
    {
      "cell_type": "markdown",
      "metadata": {
        "id": "Z2FCQTpM9Fnh"
      },
      "source": [
        "#### 57. How to randomly place p elements in a 2D array? (★★☆)"
      ]
    },
    {
      "cell_type": "code",
      "execution_count": null,
      "metadata": {
        "id": "muA1t2lI9Fnh",
        "colab": {
          "base_uri": "https://localhost:8080/"
        },
        "outputId": "80286683-b0c3-4f32-d056-41f11c730bd0"
      },
      "outputs": [
        {
          "output_type": "stream",
          "name": "stdout",
          "text": [
            "[[0. 0. 0. 0. 0. 0. 0. 0. 0. 0.]\n",
            " [0. 0. 0. 0. 0. 0. 0. 0. 0. 0.]\n",
            " [0. 0. 0. 0. 0. 0. 0. 0. 0. 0.]\n",
            " [0. 0. 0. 0. 0. 0. 0. 0. 0. 0.]\n",
            " [0. 0. 0. 0. 0. 0. 0. 0. 0. 0.]\n",
            " [0. 0. 0. 0. 0. 1. 0. 1. 0. 0.]\n",
            " [0. 0. 0. 0. 0. 0. 0. 0. 0. 0.]\n",
            " [0. 0. 0. 0. 0. 0. 0. 0. 0. 0.]\n",
            " [0. 0. 0. 0. 0. 0. 0. 0. 0. 0.]\n",
            " [0. 0. 0. 1. 0. 0. 0. 0. 0. 0.]]\n"
          ]
        }
      ],
      "source": [
        "n = 10\n",
        "p = 3\n",
        "Z = np.zeros((n,n))\n",
        "np.put(Z, np.random.choice(range(n*n), p, replace=False),1)\n",
        "print (Z)"
      ]
    },
    {
      "cell_type": "markdown",
      "metadata": {
        "id": "1ZXn5ARp9Fnh"
      },
      "source": [
        "#### 58. Subtract the mean of each row of a matrix (★★☆)"
      ]
    },
    {
      "cell_type": "code",
      "execution_count": null,
      "metadata": {
        "id": "cyD--CFW9Fnh",
        "colab": {
          "base_uri": "https://localhost:8080/"
        },
        "outputId": "65f73b49-d16b-47dc-d72d-d7c558e5e484"
      },
      "outputs": [
        {
          "output_type": "execute_result",
          "data": {
            "text/plain": [
              "array([[-0.26563655, -0.34732906, -0.34005976,  0.11417936,  0.01862091,\n",
              "         0.21307722,  0.36109181,  0.09397741, -0.19514133,  0.34721998],\n",
              "       [ 0.18719128,  0.19855069, -0.09023442, -0.04897317,  0.11330584,\n",
              "        -0.43337351,  0.03249472, -0.24266505, -0.02887975,  0.31258337],\n",
              "       [-0.05982129, -0.30303695,  0.40335314,  0.16107061,  0.01644571,\n",
              "         0.02874804,  0.06373301,  0.13728132,  0.01168136, -0.45945494],\n",
              "       [-0.24585291, -0.19609116,  0.20545882,  0.3139033 ,  0.1695128 ,\n",
              "        -0.05585699, -0.25642856,  0.07655158, -0.05224365,  0.04104677],\n",
              "       [ 0.36247406, -0.18139469, -0.41525194,  0.16424203, -0.29471793,\n",
              "         0.1418446 ,  0.17266788, -0.14407076, -0.12852882,  0.32273558]])"
            ]
          },
          "metadata": {},
          "execution_count": 30
        }
      ],
      "source": [
        "X = np.random.rand(5, 10)\n",
        "\n",
        "# Recent versions of numpy\n",
        "Y = X - X.mean(axis=1, keepdims=True)\n",
        "\n",
        "# Older versions of numpy\n",
        "Y = X - X.mean(axis=1).reshape(-1, 1)\n",
        "Y\n"
      ]
    },
    {
      "cell_type": "markdown",
      "metadata": {
        "id": "0sTai71F9Fnh"
      },
      "source": [
        "#### 59. How to sort an array by the nth column? (★★☆)"
      ]
    },
    {
      "cell_type": "code",
      "execution_count": null,
      "metadata": {
        "id": "V_9ZsXTI9Fnh",
        "colab": {
          "base_uri": "https://localhost:8080/"
        },
        "outputId": "a0bf065e-8969-4a76-afc2-6fb57ae3ed6d"
      },
      "outputs": [
        {
          "output_type": "stream",
          "name": "stdout",
          "text": [
            "[[2 8 9]\n",
            " [5 0 2]\n",
            " [1 4 6]]\n",
            "[[5 0 2]\n",
            " [1 4 6]\n",
            " [2 8 9]]\n"
          ]
        }
      ],
      "source": [
        "Z = np.random.randint(0,10,(3,3))\n",
        "print(Z)\n",
        "print(Z[Z[:,1].argsort()])"
      ]
    },
    {
      "cell_type": "markdown",
      "metadata": {
        "id": "EUgTozbH9Fnh"
      },
      "source": [
        "#### 60. How to tell if a given 2D array has null columns? (★★☆)"
      ]
    },
    {
      "cell_type": "code",
      "execution_count": null,
      "metadata": {
        "id": "kbos8Or49Fnh",
        "colab": {
          "base_uri": "https://localhost:8080/"
        },
        "outputId": "15456c1d-de33-4b50-f0f8-5e382c950e01"
      },
      "outputs": [
        {
          "output_type": "stream",
          "name": "stdout",
          "text": [
            "True\n"
          ]
        }
      ],
      "source": [
        "Z = np.random.randint(0,3,(3,10))\n",
        "print((~Z.any(axis=0)).any())"
      ]
    },
    {
      "cell_type": "markdown",
      "metadata": {
        "id": "29cYyJPJ9Fnh"
      },
      "source": [
        "#### 61. Find the nearest value from a given value in an array (★★☆)"
      ]
    },
    {
      "cell_type": "code",
      "execution_count": null,
      "metadata": {
        "id": "UFTCjVM_9Fni",
        "colab": {
          "base_uri": "https://localhost:8080/"
        },
        "outputId": "1fb4f8a4-e53c-4f7d-c2b3-0b4e2640ed92"
      },
      "outputs": [
        {
          "output_type": "stream",
          "name": "stdout",
          "text": [
            "0.5523058073256277\n"
          ]
        }
      ],
      "source": [
        "Z = np.random.uniform(0,1,10)\n",
        "z = 0.5\n",
        "m = Z.flat[np.abs(Z - z).argmin()]\n",
        "print(m)"
      ]
    },
    {
      "cell_type": "markdown",
      "metadata": {
        "id": "JZt2OVkE9Fni"
      },
      "source": [
        "#### 62. Considering two arrays with shape (1,3) and (3,1), how to compute their sum using an iterator? (★★☆)"
      ]
    },
    {
      "cell_type": "code",
      "execution_count": null,
      "metadata": {
        "id": "_yoc7rlM9Fni",
        "colab": {
          "base_uri": "https://localhost:8080/"
        },
        "outputId": "ee6ae3e1-cdf9-4816-b65b-895a4f0b99f5"
      },
      "outputs": [
        {
          "output_type": "stream",
          "name": "stdout",
          "text": [
            "[[0 1 2]\n",
            " [1 2 3]\n",
            " [2 3 4]]\n"
          ]
        }
      ],
      "source": [
        "A = np.arange(3).reshape(3,1)\n",
        "B = np.arange(3).reshape(1,3)\n",
        "it = np.nditer([A,B,None])\n",
        "for x,y,z in it: z[...] = x + y\n",
        "print(it.operands[2])"
      ]
    },
    {
      "cell_type": "markdown",
      "metadata": {
        "id": "0k7gt94Q9Fni"
      },
      "source": [
        "#### 63. Create an array class that has a name attribute (★★☆)"
      ]
    },
    {
      "cell_type": "code",
      "execution_count": null,
      "metadata": {
        "id": "TxvhZJFo9Fni",
        "colab": {
          "base_uri": "https://localhost:8080/"
        },
        "outputId": "b08e83ca-e224-4d21-ce22-698b1ac10af3"
      },
      "outputs": [
        {
          "output_type": "stream",
          "name": "stdout",
          "text": [
            "range_10\n"
          ]
        }
      ],
      "source": [
        "class NamedArray(np.ndarray):\n",
        "    def __new__(cls, array, name=\"no name\"):\n",
        "        obj = np.asarray(array).view(cls)\n",
        "        obj.name = name\n",
        "        return obj\n",
        "    def __array_finalize__(self, obj):\n",
        "        if obj is None: return\n",
        "        self.info = getattr(obj, 'name', \"no name\")\n",
        "\n",
        "Z = NamedArray(np.arange(10), \"range_10\")\n",
        "print (Z.name)"
      ]
    },
    {
      "cell_type": "markdown",
      "metadata": {
        "id": "Mv2W-P_k9Fni"
      },
      "source": [
        "#### 64. Consider a given vector, how to add 1 to each element indexed by a second vector (be careful with repeated indices)? (★★★)"
      ]
    },
    {
      "cell_type": "code",
      "execution_count": null,
      "metadata": {
        "id": "rqMCIkzZ9Fni",
        "colab": {
          "base_uri": "https://localhost:8080/"
        },
        "outputId": "a65bce37-8adf-4287-d79c-c774a5b8935a"
      },
      "outputs": [
        {
          "output_type": "stream",
          "name": "stdout",
          "text": [
            "[4. 2. 3. 5. 3. 1. 2. 2. 4. 4.]\n",
            "[7. 3. 5. 9. 5. 1. 3. 3. 7. 7.]\n"
          ]
        }
      ],
      "source": [
        "Z = np.ones(10)\n",
        "I = np.random.randint(0,len(Z),20)\n",
        "Z += np.bincount(I, minlength=len(Z))\n",
        "print(Z)\n",
        "\n",
        "# Another solution\n",
        "# Author: Bartosz Telenczuk\n",
        "np.add.at(Z, I, 1)\n",
        "print(Z)"
      ]
    },
    {
      "cell_type": "markdown",
      "metadata": {
        "id": "--NqxsP79Fni"
      },
      "source": [
        "#### 65. How to accumulate elements of a vector (X) to an array (F) based on an index list (I)? (★★★)"
      ]
    },
    {
      "cell_type": "code",
      "execution_count": null,
      "metadata": {
        "id": "e6n0tkj69Fni",
        "colab": {
          "base_uri": "https://localhost:8080/"
        },
        "outputId": "6429a330-1a61-429e-e2bf-18c3da3cf381"
      },
      "outputs": [
        {
          "output_type": "stream",
          "name": "stdout",
          "text": [
            "[0. 7. 0. 6. 5. 0. 0. 0. 0. 3.]\n"
          ]
        }
      ],
      "source": [
        "X = [1,2,3,4,5,6]\n",
        "I = [1,3,9,3,4,1]\n",
        "F = np.bincount(I,X)\n",
        "print(F)\n",
        "\n"
      ]
    },
    {
      "cell_type": "markdown",
      "metadata": {
        "id": "jHIEqzk99Fni"
      },
      "source": [
        "#### 66. Considering a (w,h,3) image of (dtype=ubyte), compute the number of unique colors (★★★)"
      ]
    },
    {
      "cell_type": "code",
      "execution_count": null,
      "metadata": {
        "id": "D7rZQEzR9Fni",
        "colab": {
          "base_uri": "https://localhost:8080/"
        },
        "outputId": "8606a306-a290-4acb-834c-2274227501c2"
      },
      "outputs": [
        {
          "output_type": "stream",
          "name": "stdout",
          "text": [
            "64\n"
          ]
        }
      ],
      "source": [
        "w, h = 256, 256\n",
        "I = np.random.randint(0, 4, (h, w, 3)).astype(np.ubyte)\n",
        "colors = np.unique(I.reshape(-1, 3), axis=0)\n",
        "n = len(colors)\n",
        "print(n)\n"
      ]
    },
    {
      "cell_type": "markdown",
      "metadata": {
        "id": "F2A6uPVX9Fni"
      },
      "source": [
        "#### 67. Considering a four dimensions array, how to get sum over the last two axis at once? (★★★)"
      ]
    },
    {
      "cell_type": "code",
      "execution_count": null,
      "metadata": {
        "id": "1sKwrw6b9Fni",
        "colab": {
          "base_uri": "https://localhost:8080/"
        },
        "outputId": "6c8fc951-f41b-4aa0-e41f-64e47e9b243b"
      },
      "outputs": [
        {
          "output_type": "stream",
          "name": "stdout",
          "text": [
            "[[63 65 58 61]\n",
            " [67 46 26 56]\n",
            " [63 70 61 63]]\n",
            "[[63 65 58 61]\n",
            " [67 46 26 56]\n",
            " [63 70 61 63]]\n"
          ]
        }
      ],
      "source": [
        "A = np.random.randint(0,10,(3,4,3,4))\n",
        "# solution by passing a tuple of axes (introduced in numpy 1.7.0)\n",
        "sum = A.sum(axis=(-2,-1))\n",
        "print(sum)\n",
        "# solution by flattening the last two dimensions into one\n",
        "# (useful for functions that don't accept tuples for axis argument)\n",
        "sum = A.reshape(A.shape[:-2] + (-1,)).sum(axis=-1)\n",
        "print(sum)"
      ]
    },
    {
      "cell_type": "markdown",
      "metadata": {
        "id": "jxkRoLeH9Fni"
      },
      "source": [
        "#### 68. Considering a one-dimensional vector D, how to compute means of subsets of D using a vector S of same size describing subset  indices? (★★★)"
      ]
    },
    {
      "cell_type": "code",
      "execution_count": null,
      "metadata": {
        "id": "RtMi5z-K9Fnj",
        "colab": {
          "base_uri": "https://localhost:8080/"
        },
        "outputId": "798ae986-06b2-4aea-d01e-c4a33b2f98bf"
      },
      "outputs": [
        {
          "output_type": "stream",
          "name": "stdout",
          "text": [
            "[0.62251528 0.51681321 0.44246223 0.52859202 0.57629974 0.41969693\n",
            " 0.45709708 0.59982803 0.45053636 0.58952999]\n",
            "0    0.622515\n",
            "1    0.516813\n",
            "2    0.442462\n",
            "3    0.528592\n",
            "4    0.576300\n",
            "5    0.419697\n",
            "6    0.457097\n",
            "7    0.599828\n",
            "8    0.450536\n",
            "9    0.589530\n",
            "dtype: float64\n"
          ]
        }
      ],
      "source": [
        "D = np.random.uniform(0,1,100)\n",
        "S = np.random.randint(0,10,100)\n",
        "D_sums = np.bincount(S, weights=D)\n",
        "D_counts = np.bincount(S)\n",
        "D_means = D_sums / D_counts\n",
        "print(D_means)\n",
        "\n",
        "# Pandas solution as a reference due to more intuitive code\n",
        "import pandas as pd\n",
        "print(pd.Series(D).groupby(S).mean())\n"
      ]
    },
    {
      "cell_type": "markdown",
      "metadata": {
        "id": "QxJ3LTuk9Fnj"
      },
      "source": [
        "#### 69. How to get the diagonal of a dot product? (★★★)"
      ]
    },
    {
      "cell_type": "code",
      "execution_count": null,
      "metadata": {
        "id": "2cXleAe59Fnj",
        "colab": {
          "base_uri": "https://localhost:8080/"
        },
        "outputId": "775bed89-8d4b-4afa-e973-5ab2ab632561"
      },
      "outputs": [
        {
          "output_type": "execute_result",
          "data": {
            "text/plain": [
              "array([0.57910546, 1.13890484, 1.24411206, 1.06544191, 0.51817575])"
            ]
          },
          "metadata": {},
          "execution_count": 14
        }
      ],
      "source": [
        "A = np.random.uniform(0,1,(5,5))\n",
        "B = np.random.uniform(0,1,(5,5))\n",
        "\n",
        "# Slow version\n",
        "np.diag(np.dot(A, B))\n",
        "\n",
        "# Fast version\n",
        "np.sum(A * B.T, axis=1)\n",
        "\n",
        "# Faster version\n",
        "np.einsum(\"ij,ji->i\", A, B)"
      ]
    },
    {
      "cell_type": "markdown",
      "metadata": {
        "id": "Zwag8Gvt9Fnj"
      },
      "source": [
        "#### 70. Consider the vector [1, 2, 3, 4, 5], how to build a new vector with 3 consecutive zeros interleaved between each value? (★★★)"
      ]
    },
    {
      "cell_type": "code",
      "execution_count": null,
      "metadata": {
        "id": "qhJYQkGw9Fnj",
        "colab": {
          "base_uri": "https://localhost:8080/"
        },
        "outputId": "563a15b4-6db8-4ca5-9f50-2627c4de0fb8"
      },
      "outputs": [
        {
          "output_type": "stream",
          "name": "stdout",
          "text": [
            "[1. 0. 0. 0. 2. 0. 0. 0. 3. 0. 0. 0. 4. 0. 0. 0. 5.]\n"
          ]
        }
      ],
      "source": [
        "Z = np.array([1,2,3,4,5])\n",
        "nz = 3\n",
        "Z0 = np.zeros(len(Z) + (len(Z)-1)*(nz))\n",
        "Z0[::nz+1] = Z\n",
        "print(Z0)"
      ]
    },
    {
      "cell_type": "markdown",
      "metadata": {
        "id": "Zdm3Wshk9Fnj"
      },
      "source": [
        "#### 71. Consider an array of dimension (5,5,3), how to mulitply it by an array with dimensions (5,5)? (★★★)"
      ]
    },
    {
      "cell_type": "code",
      "execution_count": null,
      "metadata": {
        "id": "siSAwmhS9Fnj",
        "colab": {
          "base_uri": "https://localhost:8080/"
        },
        "outputId": "226aae40-3f2b-4144-c586-a63869b7c402"
      },
      "outputs": [
        {
          "output_type": "stream",
          "name": "stdout",
          "text": [
            "[[[2. 2. 2.]\n",
            "  [2. 2. 2.]\n",
            "  [2. 2. 2.]\n",
            "  [2. 2. 2.]\n",
            "  [2. 2. 2.]]\n",
            "\n",
            " [[2. 2. 2.]\n",
            "  [2. 2. 2.]\n",
            "  [2. 2. 2.]\n",
            "  [2. 2. 2.]\n",
            "  [2. 2. 2.]]\n",
            "\n",
            " [[2. 2. 2.]\n",
            "  [2. 2. 2.]\n",
            "  [2. 2. 2.]\n",
            "  [2. 2. 2.]\n",
            "  [2. 2. 2.]]\n",
            "\n",
            " [[2. 2. 2.]\n",
            "  [2. 2. 2.]\n",
            "  [2. 2. 2.]\n",
            "  [2. 2. 2.]\n",
            "  [2. 2. 2.]]\n",
            "\n",
            " [[2. 2. 2.]\n",
            "  [2. 2. 2.]\n",
            "  [2. 2. 2.]\n",
            "  [2. 2. 2.]\n",
            "  [2. 2. 2.]]]\n"
          ]
        }
      ],
      "source": [
        "A = np.ones((5,5,3))\n",
        "B = 2*np.ones((5,5))\n",
        "print(A * B[:,:,None])"
      ]
    },
    {
      "cell_type": "markdown",
      "metadata": {
        "id": "7wY-oMcQ9Fnj"
      },
      "source": [
        "#### 72. How to swap two rows of an array? (★★★)"
      ]
    },
    {
      "cell_type": "code",
      "execution_count": null,
      "metadata": {
        "id": "WFKHHr_G9Fnj",
        "colab": {
          "base_uri": "https://localhost:8080/"
        },
        "outputId": "5cee31bd-dca1-468f-f924-fa18bbe75aaa"
      },
      "outputs": [
        {
          "output_type": "stream",
          "name": "stdout",
          "text": [
            "[[4 3 1]\n",
            " [5 7 0]\n",
            " [9 9 3]\n",
            " [8 2 4]]\n",
            "[[9 9 3]\n",
            " [5 7 0]\n",
            " [4 3 1]\n",
            " [8 2 4]]\n"
          ]
        }
      ],
      "source": [
        "import numpy as np\n",
        "a = np.array([[4,3,1],[5,7,0],[9,9,3],[8,2,4]])\n",
        "print(a)\n",
        "\n",
        "a[[0,2]] = a[[2,0]]\n",
        "print(a)"
      ]
    },
    {
      "cell_type": "code",
      "source": [
        "A = np.arange(25).reshape(5,5)\n",
        "A[[0,1]] = A[[1,0]]\n",
        "print(A)"
      ],
      "metadata": {
        "colab": {
          "base_uri": "https://localhost:8080/"
        },
        "id": "UJFBmr4LT3TY",
        "outputId": "08c53557-b9ee-45a6-e6bf-8453ddeb6896"
      },
      "execution_count": null,
      "outputs": [
        {
          "output_type": "stream",
          "name": "stdout",
          "text": [
            "[[ 5  6  7  8  9]\n",
            " [ 0  1  2  3  4]\n",
            " [10 11 12 13 14]\n",
            " [15 16 17 18 19]\n",
            " [20 21 22 23 24]]\n"
          ]
        }
      ]
    },
    {
      "cell_type": "markdown",
      "metadata": {
        "id": "aVhbWRFb9Fnj"
      },
      "source": [
        "#### 73. Consider a set of 10 triplets describing 10 triangles (with shared vertices), find the set of unique line segments composing all the  triangles (★★★)"
      ]
    },
    {
      "cell_type": "code",
      "execution_count": null,
      "metadata": {
        "id": "9o9BU8W89Fnj",
        "colab": {
          "base_uri": "https://localhost:8080/"
        },
        "outputId": "6490f65d-3e65-4b8a-bc64-8063860dacfd"
      },
      "outputs": [
        {
          "output_type": "stream",
          "name": "stdout",
          "text": [
            "[( 1, 12) ( 1, 31) ( 3, 53) ( 3, 75) (11, 19) (11, 52) (12, 31) (15, 41)\n",
            " (15, 45) (19, 52) (21, 31) (21, 37) (21, 51) (21, 82) (31, 82) (34, 78)\n",
            " (34, 94) (37, 51) (41, 45) (49, 67) (49, 92) (53, 75) (57, 68) (57, 83)\n",
            " (62, 71) (62, 82) (67, 92) (68, 83) (71, 82) (78, 94)]\n"
          ]
        }
      ],
      "source": [
        "faces = np.random.randint(0,100,(10,3))\n",
        "F = np.roll(faces.repeat(2,axis=1),-1,axis=1)\n",
        "F = F.reshape(len(F)*3,2)\n",
        "F = np.sort(F,axis=1)\n",
        "G = F.view( dtype=[('p0',F.dtype),('p1',F.dtype)] )\n",
        "G = np.unique(G)\n",
        "print(G)"
      ]
    },
    {
      "cell_type": "markdown",
      "metadata": {
        "id": "vzKna8f79Fnj"
      },
      "source": [
        "#### 74. Given an array C that is a bincount, how to produce an array A such that np.bincount(A) == C? (★★★)"
      ]
    },
    {
      "cell_type": "code",
      "execution_count": null,
      "metadata": {
        "id": "M0Ew5i9X9Fnk",
        "colab": {
          "base_uri": "https://localhost:8080/"
        },
        "outputId": "10ea164a-911f-4d5f-a110-824ace2559ab"
      },
      "outputs": [
        {
          "output_type": "stream",
          "name": "stdout",
          "text": [
            "[1 1 2 3 4 4 6]\n"
          ]
        }
      ],
      "source": [
        "C = np.bincount([1,1,2,3,4,4,6])\n",
        "A = np.repeat(np.arange(len(C)), C)\n",
        "print(A)"
      ]
    },
    {
      "cell_type": "markdown",
      "metadata": {
        "id": "yG6FlNTn9Fnk"
      },
      "source": [
        "\n",
        "\n",
        "```\n",
        "# This is formatted as code\n",
        "```\n",
        "\n",
        "#### 75. How to compute averages using a sliding window over an array? (★★★)"
      ]
    },
    {
      "cell_type": "code",
      "execution_count": null,
      "metadata": {
        "id": "Q_iDpqAK9Fnk",
        "colab": {
          "base_uri": "https://localhost:8080/"
        },
        "outputId": "b0843601-df06-4c48-aec2-1d8d431a25f3"
      },
      "outputs": [
        {
          "output_type": "execute_result",
          "data": {
            "text/plain": [
              "array([ 2.,  3.,  4.,  5.,  6.,  7.,  8.,  9., 10., 11., 12., 13., 14.,\n",
              "       15., 16., 17.])"
            ]
          },
          "metadata": {},
          "execution_count": 5
        }
      ],
      "source": [
        "import numpy as np\n",
        "def moving_average(a,n) :\n",
        "  test = np.cumsum(a, dtype=float)\n",
        "  test[n:] = test[n:] - test[:-n]\n",
        "  return test[n - 1:] / n\n",
        "\n",
        "moving_average(np.arange(20),5)\n",
        "  "
      ]
    },
    {
      "cell_type": "markdown",
      "metadata": {
        "id": "ZDp2wzu-9Fnk"
      },
      "source": [
        "#### 76. Consider a one-dimensional array Z, build a two-dimensional array whose first row is (Z[0],Z[1],Z[2]) and each subsequent row is  shifted by 1 (last row should be (Z[-3],Z[-2],Z[-1]) (★★★)"
      ]
    },
    {
      "cell_type": "code",
      "execution_count": null,
      "metadata": {
        "id": "PnFU009r9Fnk",
        "colab": {
          "base_uri": "https://localhost:8080/"
        },
        "outputId": "a5a50b84-3ea2-414a-ec64-7f8c247b6221"
      },
      "outputs": [
        {
          "output_type": "stream",
          "name": "stdout",
          "text": [
            "[[0 1 2]\n",
            " [1 2 3]\n",
            " [2 3 4]\n",
            " [3 4 5]\n",
            " [4 5 6]\n",
            " [5 6 7]\n",
            " [6 7 8]\n",
            " [7 8 9]]\n"
          ]
        }
      ],
      "source": [
        "from numpy.lib import stride_tricks\n",
        "def rolling(a, window):\n",
        "    shape = (a.size - window + 1, window)\n",
        "    strides = (a.strides[0], a.strides[0])\n",
        "    return stride_tricks.as_strided(a, shape=shape, strides=strides)\n",
        "Z = rolling(np.arange(10), 3)\n",
        "print(Z)"
      ]
    },
    {
      "cell_type": "markdown",
      "metadata": {
        "id": "MjIuDv5v9Fnk"
      },
      "source": [
        "#### 77. How to negate a boolean, or to change the sign of a float inplace? (★★★)"
      ]
    },
    {
      "cell_type": "code",
      "execution_count": null,
      "metadata": {
        "id": "2O826W9-9Fnk",
        "colab": {
          "base_uri": "https://localhost:8080/"
        },
        "outputId": "2776322b-0b5c-42b9-93a7-4e4bf3e1b1c4"
      },
      "outputs": [
        {
          "output_type": "stream",
          "name": "stdout",
          "text": [
            "False\n"
          ]
        }
      ],
      "source": [
        "import operator\n",
        "print(operator.not_(True))"
      ]
    },
    {
      "cell_type": "markdown",
      "metadata": {
        "id": "mJXrphFb9Fnk"
      },
      "source": [
        "#### 78. Consider 2 sets of points P0,P1 describing lines (2d) and a point p, how to compute distance from p to each line i (P0[i],P1[i])? (★★★)"
      ]
    },
    {
      "cell_type": "code",
      "execution_count": null,
      "metadata": {
        "id": "w0De1rum9Fnk",
        "colab": {
          "base_uri": "https://localhost:8080/"
        },
        "outputId": "d567def2-c13c-404c-dfc0-44b5b016e792"
      },
      "outputs": [
        {
          "output_type": "stream",
          "name": "stdout",
          "text": [
            "[1.82184771 0.15102297 1.12473357 1.90914424 6.27895665 2.51841628\n",
            " 8.74436575 4.0222544  8.12725751 2.82981465]\n"
          ]
        }
      ],
      "source": [
        "def distance(P0, P1, p):\n",
        "    T = P1 - P0\n",
        "    L = (T**2).sum(axis=1)\n",
        "    U = -((P0[:,0]-p[...,0])*T[:,0] + (P0[:,1]-p[...,1])*T[:,1]) / L\n",
        "    U = U.reshape(len(U),1)\n",
        "    D = P0 + U*T - p\n",
        "    return np.sqrt((D**2).sum(axis=1))\n",
        "\n",
        "P0 = np.random.uniform(-10,10,(10,2))\n",
        "P1 = np.random.uniform(-10,10,(10,2))\n",
        "p  = np.random.uniform(-10,10,( 1,2))\n",
        "print(distance(P0, P1, p))"
      ]
    },
    {
      "cell_type": "markdown",
      "metadata": {
        "id": "CW53jfHs9Fnk"
      },
      "source": [
        "#### 79. Consider 2 sets of points P0,P1 describing lines (2d) and a set of points P, how to compute distance from each point j (P[j]) to each line i (P0[i],P1[i])? (★★★)"
      ]
    },
    {
      "cell_type": "code",
      "execution_count": null,
      "metadata": {
        "id": "DpNl0MN79Fnl",
        "colab": {
          "base_uri": "https://localhost:8080/"
        },
        "outputId": "502fd583-8096-4f42-a210-2c87423eea24"
      },
      "outputs": [
        {
          "output_type": "stream",
          "name": "stdout",
          "text": [
            "[[ 3.41987516  4.40714007  0.02703609  3.48746837  2.98715435 10.11147564\n",
            "  10.38864103 10.55949593  6.320472    9.18775778]\n",
            " [ 7.51123233 13.30479012  8.64413042  6.1034308   7.52366321 13.48547679\n",
            "   0.77515649  2.40991412  1.3479536  13.86264396]\n",
            " [ 6.3253909  11.16132838  6.49228751  5.57045691  5.50603102 11.56700859\n",
            "   0.80293384  2.48355233  0.66267117 11.83459494]\n",
            " [ 9.82104737 12.60582154  7.82517541  9.24091282  5.14296304 10.80014104\n",
            "   2.33076904  1.08622085  2.38366272 11.52124176]\n",
            " [11.84419724 10.06911049  5.12954748 12.81791997  0.5659896   5.91232199\n",
            "   3.09385377  5.47224979  7.65260156  6.9861942 ]\n",
            " [ 9.29592138  9.11246936  4.25695991 10.10070981  0.95543604  6.59833588\n",
            "   0.83945483  2.8036541   5.33170044  7.33902356]\n",
            " [ 4.0227749   9.20984769 13.99863011  1.63724274 14.25827613  7.37006507\n",
            "  15.09310536  1.97989138  7.04956896  8.01411537]\n",
            " [ 7.81293609  1.67252337  2.64710587  7.70424814  2.25317253  9.86393037\n",
            "  14.61318103 14.41335044  9.19328496  8.39488343]\n",
            " [ 5.42107362  7.25837146  2.51950049  6.14103526  1.03042786  7.11514471\n",
            "   2.71295714  0.97937978  2.21781065  7.35989408]\n",
            " [ 4.80800517  9.35382341 14.11248788  0.73500235 13.94301591  6.95997076\n",
            "  15.74080507  2.90593105  6.17764511  7.71072651]]\n"
          ]
        }
      ],
      "source": [
        "P0 = np.random.uniform(-10, 10, (10,2))\n",
        "P1 = np.random.uniform(-10,10,(10,2))\n",
        "p = np.random.uniform(-10, 10, (10,2))\n",
        "print(np.array([distance(P0,P1,p_i) for p_i in p]))"
      ]
    },
    {
      "cell_type": "markdown",
      "metadata": {
        "id": "v8O8wtUo9Fnl"
      },
      "source": [
        "#### 80. Consider an arbitrary array, write a function that extract a subpart with a fixed shape and centered on a given element (pad with a `fill` value when necessary) (★★★)"
      ]
    },
    {
      "cell_type": "code",
      "execution_count": null,
      "metadata": {
        "id": "NoG7z7Hi9Fnl",
        "colab": {
          "base_uri": "https://localhost:8080/"
        },
        "outputId": "e8ef4696-3fe8-4eb8-890b-1891b066f64b"
      },
      "outputs": [
        {
          "output_type": "stream",
          "name": "stdout",
          "text": [
            "[[7 7 1 6 2 2 2 3 9 4]\n",
            " [6 1 4 3 0 9 4 4 2 8]\n",
            " [4 9 0 7 2 8 0 0 5 1]\n",
            " [3 8 6 4 2 4 3 3 6 4]\n",
            " [9 9 9 2 6 0 6 4 9 5]\n",
            " [1 5 9 3 9 8 7 4 7 7]\n",
            " [1 3 5 9 0 3 6 0 2 4]\n",
            " [6 0 6 4 6 1 0 5 9 8]\n",
            " [9 1 1 2 9 7 5 3 1 5]\n",
            " [3 5 0 4 4 5 1 0 5 0]]\n",
            "[[0 0 0 0 0]\n",
            " [0 7 7 1 6]\n",
            " [0 6 1 4 3]\n",
            " [0 4 9 0 7]\n",
            " [0 3 8 6 4]]\n"
          ]
        },
        {
          "output_type": "stream",
          "name": "stderr",
          "text": [
            "/usr/local/lib/python3.7/dist-packages/ipykernel_launcher.py:23: FutureWarning: Using a non-tuple sequence for multidimensional indexing is deprecated; use `arr[tuple(seq)]` instead of `arr[seq]`. In the future this will be interpreted as an array index, `arr[np.array(seq)]`, which will result either in an error or a different result.\n"
          ]
        }
      ],
      "source": [
        "Z = np.random.randint(0,10,(10,10))\n",
        "shape = (5,5)\n",
        "fill  = 0\n",
        "position = (1,1)\n",
        "\n",
        "R = np.ones(shape, dtype=Z.dtype)*fill\n",
        "P  = np.array(list(position)).astype(int)\n",
        "Rs = np.array(list(R.shape)).astype(int)\n",
        "Zs = np.array(list(Z.shape)).astype(int)\n",
        "\n",
        "R_start = np.zeros((len(shape),)).astype(int)\n",
        "R_stop  = np.array(list(shape)).astype(int)\n",
        "Z_start = (P-Rs//2)\n",
        "Z_stop  = (P+Rs//2)+Rs%2\n",
        "\n",
        "R_start = (R_start - np.minimum(Z_start,0)).tolist()\n",
        "Z_start = (np.maximum(Z_start,0)).tolist()\n",
        "R_stop = np.maximum(R_start, (R_stop - np.maximum(Z_stop-Zs,0))).tolist()\n",
        "Z_stop = (np.minimum(Z_stop,Zs)).tolist()\n",
        "\n",
        "r = [slice(start,stop) for start,stop in zip(R_start,R_stop)]\n",
        "z = [slice(start,stop) for start,stop in zip(Z_start,Z_stop)]\n",
        "R[r] = Z[z]\n",
        "print(Z)\n",
        "print(R)"
      ]
    },
    {
      "cell_type": "markdown",
      "metadata": {
        "id": "0aBNGLpv9Fnl"
      },
      "source": [
        "#### 81. Consider an array Z = [1,2,3,4,5,6,7,8,9,10,11,12,13,14], how to generate an array R = [[1,2,3,4], [2,3,4,5], [3,4,5,6], ..., [11,12,13,14]]? (★★★)"
      ]
    },
    {
      "cell_type": "code",
      "execution_count": null,
      "metadata": {
        "id": "OYr1Ep259Fnl",
        "colab": {
          "base_uri": "https://localhost:8080/"
        },
        "outputId": "690b2298-0755-483a-b4cd-382f8f76f8d3"
      },
      "outputs": [
        {
          "output_type": "stream",
          "name": "stdout",
          "text": [
            "[[ 1  2  3  4]\n",
            " [ 2  3  4  5]\n",
            " [ 3  4  5  6]\n",
            " [ 4  5  6  7]\n",
            " [ 5  6  7  8]\n",
            " [ 6  7  8  9]\n",
            " [ 7  8  9 10]\n",
            " [ 8  9 10 11]\n",
            " [ 9 10 11 12]\n",
            " [10 11 12 13]\n",
            " [11 12 13 14]]\n"
          ]
        }
      ],
      "source": [
        "Z = np.arange(1,15,dtype=np.uint32)\n",
        "R = stride_tricks.as_strided(Z,(11,4),(4,4))\n",
        "print(R)"
      ]
    },
    {
      "cell_type": "markdown",
      "metadata": {
        "id": "mlyUaMyj9Fnl"
      },
      "source": [
        "#### 82. Compute a matrix rank (★★★)"
      ]
    },
    {
      "cell_type": "code",
      "execution_count": null,
      "metadata": {
        "id": "DY8UJrFU9Fnl",
        "colab": {
          "base_uri": "https://localhost:8080/"
        },
        "outputId": "2a8f2455-c3ef-4653-b3bf-7a7e9dd7431a"
      },
      "outputs": [
        {
          "output_type": "stream",
          "name": "stdout",
          "text": [
            "10\n"
          ]
        }
      ],
      "source": [
        "Z = np.random.uniform(0,1,(10,10))\n",
        "U, S, V = np.linalg.svd(Z) # Singular Value Decomposition\n",
        "rank = np.sum(S > 1e-10)\n",
        "print(rank)"
      ]
    },
    {
      "cell_type": "markdown",
      "metadata": {
        "id": "_8kMa1uE9Fnl"
      },
      "source": [
        "\n",
        "> Indented block\n",
        "\n"
      ]
    },
    {
      "cell_type": "code",
      "execution_count": null,
      "metadata": {
        "id": "Hk3ek-qX9Fnl",
        "colab": {
          "base_uri": "https://localhost:8080/"
        },
        "outputId": "b9a7989f-2856-44f4-c691-66e0e0282c0e"
      },
      "outputs": [
        {
          "output_type": "stream",
          "name": "stdout",
          "text": [
            "Original array:\n",
            "[1 2 3 4 5 1 2 1 1 1]\n",
            "Most frequent value in the above array:\n",
            "1\n"
          ]
        }
      ],
      "source": [
        "import numpy as np\n",
        "  \n",
        "  \n",
        "# create array\n",
        "x = np.array([1,2,3,4,5,1,2,1,1,1])\n",
        "print(\"Original array:\")\n",
        "print(x)\n",
        "  \n",
        "print(\"Most frequent value in the above array:\")\n",
        "print(np.bincount(x).argmax())"
      ]
    },
    {
      "cell_type": "markdown",
      "metadata": {
        "id": "ranfz_Jg9Fnl"
      },
      "source": [
        "#### 84. Extract all the contiguous 3x3 blocks from a random 10x10 matrix (★★★)"
      ]
    },
    {
      "cell_type": "code",
      "execution_count": null,
      "metadata": {
        "id": "eNht69Wb9Fnm",
        "colab": {
          "base_uri": "https://localhost:8080/"
        },
        "outputId": "1a02b37f-bfe2-4d60-cf78-34b422c44076"
      },
      "outputs": [
        {
          "output_type": "stream",
          "name": "stdout",
          "text": [
            "[[[[3 3 1]\n",
            "   [2 1 3]\n",
            "   [0 0 0]]\n",
            "\n",
            "  [[3 1 2]\n",
            "   [1 3 4]\n",
            "   [0 0 3]]\n",
            "\n",
            "  [[1 2 1]\n",
            "   [3 4 0]\n",
            "   [0 3 1]]\n",
            "\n",
            "  [[2 1 1]\n",
            "   [4 0 3]\n",
            "   [3 1 3]]\n",
            "\n",
            "  [[1 1 0]\n",
            "   [0 3 1]\n",
            "   [1 3 3]]\n",
            "\n",
            "  [[1 0 1]\n",
            "   [3 1 0]\n",
            "   [3 3 1]]\n",
            "\n",
            "  [[0 1 2]\n",
            "   [1 0 2]\n",
            "   [3 1 0]]\n",
            "\n",
            "  [[1 2 0]\n",
            "   [0 2 0]\n",
            "   [1 0 0]]]\n",
            "\n",
            "\n",
            " [[[2 1 3]\n",
            "   [0 0 0]\n",
            "   [3 2 0]]\n",
            "\n",
            "  [[1 3 4]\n",
            "   [0 0 3]\n",
            "   [2 0 4]]\n",
            "\n",
            "  [[3 4 0]\n",
            "   [0 3 1]\n",
            "   [0 4 4]]\n",
            "\n",
            "  [[4 0 3]\n",
            "   [3 1 3]\n",
            "   [4 4 2]]\n",
            "\n",
            "  [[0 3 1]\n",
            "   [1 3 3]\n",
            "   [4 2 3]]\n",
            "\n",
            "  [[3 1 0]\n",
            "   [3 3 1]\n",
            "   [2 3 1]]\n",
            "\n",
            "  [[1 0 2]\n",
            "   [3 1 0]\n",
            "   [3 1 0]]\n",
            "\n",
            "  [[0 2 0]\n",
            "   [1 0 0]\n",
            "   [1 0 4]]]\n",
            "\n",
            "\n",
            " [[[0 0 0]\n",
            "   [3 2 0]\n",
            "   [2 2 0]]\n",
            "\n",
            "  [[0 0 3]\n",
            "   [2 0 4]\n",
            "   [2 0 1]]\n",
            "\n",
            "  [[0 3 1]\n",
            "   [0 4 4]\n",
            "   [0 1 1]]\n",
            "\n",
            "  [[3 1 3]\n",
            "   [4 4 2]\n",
            "   [1 1 3]]\n",
            "\n",
            "  [[1 3 3]\n",
            "   [4 2 3]\n",
            "   [1 3 1]]\n",
            "\n",
            "  [[3 3 1]\n",
            "   [2 3 1]\n",
            "   [3 1 1]]\n",
            "\n",
            "  [[3 1 0]\n",
            "   [3 1 0]\n",
            "   [1 1 3]]\n",
            "\n",
            "  [[1 0 0]\n",
            "   [1 0 4]\n",
            "   [1 3 0]]]\n",
            "\n",
            "\n",
            " [[[3 2 0]\n",
            "   [2 2 0]\n",
            "   [0 0 1]]\n",
            "\n",
            "  [[2 0 4]\n",
            "   [2 0 1]\n",
            "   [0 1 4]]\n",
            "\n",
            "  [[0 4 4]\n",
            "   [0 1 1]\n",
            "   [1 4 4]]\n",
            "\n",
            "  [[4 4 2]\n",
            "   [1 1 3]\n",
            "   [4 4 4]]\n",
            "\n",
            "  [[4 2 3]\n",
            "   [1 3 1]\n",
            "   [4 4 4]]\n",
            "\n",
            "  [[2 3 1]\n",
            "   [3 1 1]\n",
            "   [4 4 3]]\n",
            "\n",
            "  [[3 1 0]\n",
            "   [1 1 3]\n",
            "   [4 3 2]]\n",
            "\n",
            "  [[1 0 4]\n",
            "   [1 3 0]\n",
            "   [3 2 4]]]\n",
            "\n",
            "\n",
            " [[[2 2 0]\n",
            "   [0 0 1]\n",
            "   [0 0 0]]\n",
            "\n",
            "  [[2 0 1]\n",
            "   [0 1 4]\n",
            "   [0 0 3]]\n",
            "\n",
            "  [[0 1 1]\n",
            "   [1 4 4]\n",
            "   [0 3 3]]\n",
            "\n",
            "  [[1 1 3]\n",
            "   [4 4 4]\n",
            "   [3 3 0]]\n",
            "\n",
            "  [[1 3 1]\n",
            "   [4 4 4]\n",
            "   [3 0 3]]\n",
            "\n",
            "  [[3 1 1]\n",
            "   [4 4 3]\n",
            "   [0 3 4]]\n",
            "\n",
            "  [[1 1 3]\n",
            "   [4 3 2]\n",
            "   [3 4 3]]\n",
            "\n",
            "  [[1 3 0]\n",
            "   [3 2 4]\n",
            "   [4 3 0]]]\n",
            "\n",
            "\n",
            " [[[0 0 1]\n",
            "   [0 0 0]\n",
            "   [1 1 2]]\n",
            "\n",
            "  [[0 1 4]\n",
            "   [0 0 3]\n",
            "   [1 2 4]]\n",
            "\n",
            "  [[1 4 4]\n",
            "   [0 3 3]\n",
            "   [2 4 0]]\n",
            "\n",
            "  [[4 4 4]\n",
            "   [3 3 0]\n",
            "   [4 0 4]]\n",
            "\n",
            "  [[4 4 4]\n",
            "   [3 0 3]\n",
            "   [0 4 2]]\n",
            "\n",
            "  [[4 4 3]\n",
            "   [0 3 4]\n",
            "   [4 2 2]]\n",
            "\n",
            "  [[4 3 2]\n",
            "   [3 4 3]\n",
            "   [2 2 2]]\n",
            "\n",
            "  [[3 2 4]\n",
            "   [4 3 0]\n",
            "   [2 2 2]]]\n",
            "\n",
            "\n",
            " [[[0 0 0]\n",
            "   [1 1 2]\n",
            "   [0 1 4]]\n",
            "\n",
            "  [[0 0 3]\n",
            "   [1 2 4]\n",
            "   [1 4 4]]\n",
            "\n",
            "  [[0 3 3]\n",
            "   [2 4 0]\n",
            "   [4 4 0]]\n",
            "\n",
            "  [[3 3 0]\n",
            "   [4 0 4]\n",
            "   [4 0 1]]\n",
            "\n",
            "  [[3 0 3]\n",
            "   [0 4 2]\n",
            "   [0 1 0]]\n",
            "\n",
            "  [[0 3 4]\n",
            "   [4 2 2]\n",
            "   [1 0 4]]\n",
            "\n",
            "  [[3 4 3]\n",
            "   [2 2 2]\n",
            "   [0 4 3]]\n",
            "\n",
            "  [[4 3 0]\n",
            "   [2 2 2]\n",
            "   [4 3 4]]]\n",
            "\n",
            "\n",
            " [[[1 1 2]\n",
            "   [0 1 4]\n",
            "   [3 2 0]]\n",
            "\n",
            "  [[1 2 4]\n",
            "   [1 4 4]\n",
            "   [2 0 1]]\n",
            "\n",
            "  [[2 4 0]\n",
            "   [4 4 0]\n",
            "   [0 1 2]]\n",
            "\n",
            "  [[4 0 4]\n",
            "   [4 0 1]\n",
            "   [1 2 1]]\n",
            "\n",
            "  [[0 4 2]\n",
            "   [0 1 0]\n",
            "   [2 1 3]]\n",
            "\n",
            "  [[4 2 2]\n",
            "   [1 0 4]\n",
            "   [1 3 1]]\n",
            "\n",
            "  [[2 2 2]\n",
            "   [0 4 3]\n",
            "   [3 1 3]]\n",
            "\n",
            "  [[2 2 2]\n",
            "   [4 3 4]\n",
            "   [1 3 4]]]]\n"
          ]
        }
      ],
      "source": [
        "Z = np.random.randint(0,5,(10,10))\n",
        "n = 3\n",
        "i = 1 + (Z.shape[0]-3)\n",
        "j = 1 + (Z.shape[1]-3)\n",
        "C = stride_tricks.as_strided(Z, shape=(i, j, n, n), strides=Z.strides + Z.strides)\n",
        "print(C)"
      ]
    },
    {
      "cell_type": "markdown",
      "metadata": {
        "id": "x-5JFzhw9Fnm"
      },
      "source": [
        "#### 85. Create a 2D array subclass such that Z[i,j] == Z[j,i] (★★★)"
      ]
    },
    {
      "cell_type": "code",
      "execution_count": null,
      "metadata": {
        "id": "mBz7eiRK9Fnm",
        "colab": {
          "base_uri": "https://localhost:8080/"
        },
        "outputId": "295d299f-0fee-4b8b-bc9f-d180de343346"
      },
      "outputs": [
        {
          "output_type": "stream",
          "name": "stdout",
          "text": [
            "[[ 2  9  5 12  9]\n",
            " [ 9  2 11 13  5]\n",
            " [ 5 11  7 42  6]\n",
            " [12 13 42  6 18]\n",
            " [ 9  5  6 18  3]]\n"
          ]
        }
      ],
      "source": [
        "class Symetric(np.ndarray):\n",
        "    def __setitem__(self, index, value):\n",
        "        i,j = index\n",
        "        super(Symetric, self).__setitem__((i,j), value)\n",
        "        super(Symetric, self).__setitem__((j,i), value)\n",
        "\n",
        "def symetric(Z):\n",
        "    return np.asarray(Z + Z.T - np.diag(Z.diagonal())).view(Symetric)\n",
        "\n",
        "S = symetric(np.random.randint(0,10,(5,5)))\n",
        "S[2,3] = 42\n",
        "print(S)"
      ]
    },
    {
      "cell_type": "markdown",
      "metadata": {
        "id": "GyEYSuNA9Fnm"
      },
      "source": [
        "#### 86. Consider a set of p matrices wich shape (n,n) and a set of p vectors with shape (n,1). How to compute the sum of of the p matrix products at once? (result has shape (n,1)) (★★★)"
      ]
    },
    {
      "cell_type": "code",
      "execution_count": null,
      "metadata": {
        "id": "uQmfj2IQ9Fnm",
        "colab": {
          "base_uri": "https://localhost:8080/"
        },
        "outputId": "a3bc1c60-0dec-4396-b06c-26b0d8e75123"
      },
      "outputs": [
        {
          "output_type": "stream",
          "name": "stdout",
          "text": [
            "[[200.]\n",
            " [200.]\n",
            " [200.]\n",
            " [200.]\n",
            " [200.]\n",
            " [200.]\n",
            " [200.]\n",
            " [200.]\n",
            " [200.]\n",
            " [200.]\n",
            " [200.]\n",
            " [200.]\n",
            " [200.]\n",
            " [200.]\n",
            " [200.]\n",
            " [200.]\n",
            " [200.]\n",
            " [200.]\n",
            " [200.]\n",
            " [200.]]\n"
          ]
        }
      ],
      "source": [
        "p, n = 10, 20\n",
        "M = np.ones((p,n,n))\n",
        "V = np.ones((p,n,1))\n",
        "S = np.tensordot(M, V, axes=[[0, 2], [0, 1]])\n",
        "print(S)\n"
      ]
    },
    {
      "cell_type": "markdown",
      "metadata": {
        "id": "mZ-SL_dI9Fnm"
      },
      "source": [
        "#### 87. Consider a 16x16 array, how to get the block-sum (block size is 4x4)? (★★★)"
      ]
    },
    {
      "cell_type": "code",
      "execution_count": null,
      "metadata": {
        "id": "hP0qUlyo9Fnm",
        "colab": {
          "base_uri": "https://localhost:8080/"
        },
        "outputId": "8bce4288-dcc5-4ba4-8fb2-2d5b8eab099c"
      },
      "outputs": [
        {
          "output_type": "stream",
          "name": "stdout",
          "text": [
            "[[16. 16. 16. 16.]\n",
            " [16. 16. 16. 16.]\n",
            " [16. 16. 16. 16.]\n",
            " [16. 16. 16. 16.]]\n"
          ]
        }
      ],
      "source": [
        "Z = np.ones((16,16))\n",
        "k = 4\n",
        "S = np.add.reduceat(np.add.reduceat(Z, np.arange(0, Z.shape[0], k), axis=0),\n",
        "                                       np.arange(0, Z.shape[1], k), axis=1)\n",
        "print(S)\n"
      ]
    },
    {
      "cell_type": "markdown",
      "metadata": {
        "id": "X2AK3RuP9Fnm"
      },
      "source": [
        "#### 88. How to implement the Game of Life using numpy arrays? (★★★)"
      ]
    },
    {
      "cell_type": "code",
      "execution_count": null,
      "metadata": {
        "id": "0k9fliaI9Fnn",
        "colab": {
          "base_uri": "https://localhost:8080/"
        },
        "outputId": "314e3eef-9ed7-42f4-9e90-1a925a575ae2"
      },
      "outputs": [
        {
          "output_type": "stream",
          "name": "stdout",
          "text": [
            "[[0 0 0 ... 0 0 0]\n",
            " [0 0 0 ... 0 0 0]\n",
            " [0 0 1 ... 0 0 0]\n",
            " ...\n",
            " [0 0 0 ... 0 0 0]\n",
            " [0 0 0 ... 0 0 0]\n",
            " [0 0 0 ... 0 0 0]]\n"
          ]
        }
      ],
      "source": [
        "def iterate(Z):\n",
        "    # Count neighbours\n",
        "    N = (Z[0:-2,0:-2] + Z[0:-2,1:-1] + Z[0:-2,2:] +\n",
        "         Z[1:-1,0:-2]                + Z[1:-1,2:] +\n",
        "         Z[2:  ,0:-2] + Z[2:  ,1:-1] + Z[2:  ,2:])\n",
        "\n",
        "    # Apply rules\n",
        "    birth = (N==3) & (Z[1:-1,1:-1]==0)\n",
        "    survive = ((N==2) | (N==3)) & (Z[1:-1,1:-1]==1)\n",
        "    Z[...] = 0\n",
        "    Z[1:-1,1:-1][birth | survive] = 1\n",
        "    return Z\n",
        "\n",
        "Z = np.random.randint(0,2,(50,50))\n",
        "for i in range(100): Z = iterate(Z)\n",
        "print(Z)"
      ]
    },
    {
      "cell_type": "markdown",
      "metadata": {
        "id": "4Ky4jZc09Fnn"
      },
      "source": [
        "#### 89. How to get the n largest values of an array (★★★)"
      ]
    },
    {
      "cell_type": "code",
      "execution_count": null,
      "metadata": {
        "id": "Ph6__vns9Fnn",
        "colab": {
          "base_uri": "https://localhost:8080/"
        },
        "outputId": "62ae37a6-584f-45b3-aaed-d0fe965ed7b7"
      },
      "outputs": [
        {
          "output_type": "stream",
          "name": "stdout",
          "text": [
            "[9995 9996 9997 9998 9999]\n",
            "[9996 9999 9997 9998 9995]\n"
          ]
        }
      ],
      "source": [
        "Z = np.arange(10000)\n",
        "np.random.shuffle(Z)\n",
        "n = 5\n",
        "\n",
        "# Slow\n",
        "print (Z[np.argsort(Z)[-n:]])\n",
        "\n",
        "# Fast\n",
        "print (Z[np.argpartition(-Z,n)[:n]])"
      ]
    },
    {
      "cell_type": "markdown",
      "metadata": {
        "id": "_eztOxoj9Fnn"
      },
      "source": [
        "#### 90. Given an arbitrary number of vectors, build the cartesian product (every combinations of every item) (★★★)"
      ]
    },
    {
      "cell_type": "code",
      "execution_count": null,
      "metadata": {
        "id": "g0qKWk4M9Fnn",
        "colab": {
          "base_uri": "https://localhost:8080/"
        },
        "outputId": "f6b3cdf4-6f7b-44f3-ae40-f33da03c3228"
      },
      "outputs": [
        {
          "output_type": "stream",
          "name": "stdout",
          "text": [
            "[[1 4 6]\n",
            " [1 4 7]\n",
            " [1 5 6]\n",
            " [1 5 7]\n",
            " [2 4 6]\n",
            " [2 4 7]\n",
            " [2 5 6]\n",
            " [2 5 7]\n",
            " [3 4 6]\n",
            " [3 4 7]\n",
            " [3 5 6]\n",
            " [3 5 7]]\n"
          ]
        }
      ],
      "source": [
        "def cartesian(arrays):\n",
        "    arrays = [np.asarray(a) for a in arrays]\n",
        "    shape = (len(x) for x in arrays)\n",
        "\n",
        "    ix = np.indices(shape, dtype=int)\n",
        "    ix = ix.reshape(len(arrays), -1).T\n",
        "\n",
        "    for n, arr in enumerate(arrays):\n",
        "        ix[:, n] = arrays[n][ix[:, n]]\n",
        "\n",
        "    return ix\n",
        "\n",
        "print (cartesian(([1, 2, 3], [4, 5], [6, 7])))"
      ]
    },
    {
      "cell_type": "markdown",
      "metadata": {
        "id": "8OEYtdXc9Fnn"
      },
      "source": [
        "#### 91. How to create a record array from a regular array? (★★★)"
      ]
    },
    {
      "cell_type": "code",
      "execution_count": null,
      "metadata": {
        "id": "-LYPk9A69Fnn",
        "colab": {
          "base_uri": "https://localhost:8080/"
        },
        "outputId": "ae807266-b270-453a-f66e-0da7bc8502ed"
      },
      "outputs": [
        {
          "output_type": "stream",
          "name": "stdout",
          "text": [
            "[(b'Hello', 2.5, 3) (b'World', 3.6, 2)]\n"
          ]
        }
      ],
      "source": [
        "Z = np.array([(\"Hello\", 2.5, 3),\n",
        "              (\"World\", 3.6, 2)])\n",
        "R = np.core.records.fromarrays(Z.T,\n",
        "                               names='col1, col2, col3',\n",
        "                               formats = 'S8, f8, i8')\n",
        "print(R)"
      ]
    },
    {
      "cell_type": "markdown",
      "metadata": {
        "id": "XG9eF4TL9Fnn"
      },
      "source": [
        "#### 92. Consider a large vector Z, compute Z to the power of 3 using 3 different methods (★★★)"
      ]
    },
    {
      "cell_type": "code",
      "execution_count": null,
      "metadata": {
        "id": "SDpnVh-39Fnn",
        "colab": {
          "base_uri": "https://localhost:8080/"
        },
        "outputId": "5eb18715-4723-47af-e052-2de61241c423"
      },
      "outputs": [
        {
          "output_type": "stream",
          "name": "stdout",
          "text": [
            "3.72 s ± 11.3 ms per loop (mean ± std. dev. of 7 runs, 1 loop each)\n",
            "141 ms ± 1.81 ms per loop (mean ± std. dev. of 7 runs, 10 loops each)\n",
            "122 ms ± 1.33 ms per loop (mean ± std. dev. of 7 runs, 10 loops each)\n"
          ]
        }
      ],
      "source": [
        "x = np.random.rand(int(5e7))\n",
        "\n",
        "%timeit np.power(x,3)\n",
        "%timeit x*x*x\n",
        "%timeit np.einsum('i,i,i->i',x,x,x)"
      ]
    },
    {
      "cell_type": "markdown",
      "metadata": {
        "id": "mvBcd5iw9Fnn"
      },
      "source": [
        "#### 93. Consider two arrays A and B of shape (8,3) and (2,2). How to find rows of A that contain elements of each row of B regardless of the order of the elements in B? (★★★)"
      ]
    },
    {
      "cell_type": "code",
      "execution_count": null,
      "metadata": {
        "id": "1LU7iHhU9Fno",
        "colab": {
          "base_uri": "https://localhost:8080/"
        },
        "outputId": "878c8a34-e239-482f-9f11-4e31b44a7de6"
      },
      "outputs": [
        {
          "output_type": "stream",
          "name": "stdout",
          "text": [
            "[2 4 5 6]\n"
          ]
        }
      ],
      "source": [
        "A = np.random.randint(0,5,(8,3))\n",
        "B = np.random.randint(0,5,(2,2))\n",
        "\n",
        "C = (A[..., np.newaxis, np.newaxis] == B)\n",
        "rows = np.where(C.any((3,1)).all(1))[0]\n",
        "print(rows)"
      ]
    },
    {
      "cell_type": "markdown",
      "metadata": {
        "id": "_rE9Umw-9Fno"
      },
      "source": [
        "#### 94. Considering a 10x3 matrix, extract rows with unequal values (e.g. [2,2,3]) (★★★)"
      ]
    },
    {
      "cell_type": "code",
      "execution_count": null,
      "metadata": {
        "id": "d3GLGJat9Fno",
        "colab": {
          "base_uri": "https://localhost:8080/"
        },
        "outputId": "41636525-666f-4537-98aa-2a74aa8e5c83"
      },
      "outputs": [
        {
          "output_type": "stream",
          "name": "stdout",
          "text": [
            "[[4 1 3]\n",
            " [0 3 1]\n",
            " [4 0 4]\n",
            " [2 3 0]\n",
            " [4 0 3]\n",
            " [2 2 0]\n",
            " [0 1 2]\n",
            " [4 3 1]\n",
            " [0 1 0]\n",
            " [3 3 4]]\n",
            "[[4 1 3]\n",
            " [0 3 1]\n",
            " [4 0 4]\n",
            " [2 3 0]\n",
            " [4 0 3]\n",
            " [2 2 0]\n",
            " [0 1 2]\n",
            " [4 3 1]\n",
            " [0 1 0]\n",
            " [3 3 4]]\n",
            "[[4 1 3]\n",
            " [0 3 1]\n",
            " [4 0 4]\n",
            " [2 3 0]\n",
            " [4 0 3]\n",
            " [2 2 0]\n",
            " [0 1 2]\n",
            " [4 3 1]\n",
            " [0 1 0]\n",
            " [3 3 4]]\n"
          ]
        }
      ],
      "source": [
        "Z = np.random.randint(0,5,(10,3))\n",
        "print(Z)\n",
        "# solution for arrays of all dtypes (including string arrays and record arrays)\n",
        "E = np.all(Z[:,1:] == Z[:,:-1], axis=1)\n",
        "U = Z[~E]\n",
        "print(U)\n",
        "# soluiton for numerical arrays only, will work for any number of columns in Z\n",
        "U = Z[Z.max(axis=1) != Z.min(axis=1),:]\n",
        "print(U)"
      ]
    },
    {
      "cell_type": "markdown",
      "metadata": {
        "id": "sxV--K8I9Fno"
      },
      "source": [
        "#### 95. Convert a vector of ints into a matrix binary representation (★★★)"
      ]
    },
    {
      "cell_type": "code",
      "execution_count": null,
      "metadata": {
        "id": "2JlszIaW9Fno",
        "colab": {
          "base_uri": "https://localhost:8080/"
        },
        "outputId": "ab3668a9-9ff0-40d8-82a0-03bf844dd931"
      },
      "outputs": [
        {
          "output_type": "stream",
          "name": "stdout",
          "text": [
            "[[0 0 0 0 0 0 0 0]\n",
            " [0 0 0 0 0 0 0 1]\n",
            " [0 0 0 0 0 0 1 0]\n",
            " [0 0 0 0 0 0 1 1]\n",
            " [0 0 0 0 1 1 1 1]\n",
            " [0 0 0 1 0 0 0 0]\n",
            " [0 0 1 0 0 0 0 0]\n",
            " [0 1 0 0 0 0 0 0]\n",
            " [1 0 0 0 0 0 0 0]]\n"
          ]
        }
      ],
      "source": [
        "I = np.array([0, 1, 2, 3, 15, 16, 32, 64, 128])\n",
        "B = ((I.reshape(-1,1) & (2**np.arange(8))) != 0).astype(int)\n",
        "print(B[:,::-1])"
      ]
    },
    {
      "cell_type": "markdown",
      "metadata": {
        "id": "4s9yfHwI9Fno"
      },
      "source": [
        "#### 96. Given a two dimensional array, how to extract unique rows? (★★★)"
      ]
    },
    {
      "cell_type": "code",
      "execution_count": null,
      "metadata": {
        "id": "ZutmiC_K9Fno",
        "colab": {
          "base_uri": "https://localhost:8080/"
        },
        "outputId": "7c701802-390d-4c6a-ab6f-1a41cc22627d"
      },
      "outputs": [
        {
          "output_type": "stream",
          "name": "stdout",
          "text": [
            "[[0 0 0]\n",
            " [0 1 1]\n",
            " [1 0 0]\n",
            " [1 1 0]\n",
            " [1 1 1]]\n"
          ]
        }
      ],
      "source": [
        "Z = np.random.randint(0,2,(6,3))\n",
        "T = np.ascontiguousarray(Z).view(np.dtype((np.void, Z.dtype.itemsize * Z.shape[1])))\n",
        "_, idx = np.unique(T, return_index=True)\n",
        "uZ = Z[idx]\n",
        "print(uZ)"
      ]
    },
    {
      "cell_type": "markdown",
      "metadata": {
        "id": "x8eFr3dT9Fno"
      },
      "source": [
        "#### 97. Considering 2 vectors A & B, write the einsum equivalent of inner, outer, sum, and mul function (★★★)"
      ]
    },
    {
      "cell_type": "code",
      "execution_count": null,
      "metadata": {
        "id": "4ZucE7u_9Fno",
        "colab": {
          "base_uri": "https://localhost:8080/"
        },
        "outputId": "8f052660-28b6-47c5-8874-56be3d7fef92"
      },
      "outputs": [
        {
          "output_type": "execute_result",
          "data": {
            "text/plain": [
              "array([[0.05524033, 0.08689113, 0.07279114, 0.0047449 , 0.08274858,\n",
              "        0.07588401, 0.09979755, 0.12271458, 0.0633192 , 0.05759954],\n",
              "       [0.30548497, 0.48051736, 0.40254287, 0.0262398 , 0.45760859,\n",
              "        0.4196468 , 0.55189126, 0.67862486, 0.35016203, 0.31853166],\n",
              "       [0.21349599, 0.33582186, 0.28132739, 0.01833835, 0.31981148,\n",
              "        0.29328091, 0.38570333, 0.47427435, 0.24471969, 0.222614  ],\n",
              "       [0.37943076, 0.59683155, 0.49998253, 0.03259141, 0.56837748,\n",
              "        0.52122664, 0.68548224, 0.84289302, 0.43492236, 0.39563554],\n",
              "       [0.02793714, 0.04394416, 0.03681325, 0.00239968, 0.04184911,\n",
              "        0.03837744, 0.05047143, 0.06206144, 0.03202293, 0.02913028],\n",
              "       [0.19157753, 0.30134487, 0.25244505, 0.01645565, 0.28697818,\n",
              "        0.26317136, 0.34610528, 0.4255832 , 0.21959567, 0.19975944],\n",
              "       [0.34264451, 0.53896805, 0.45150866, 0.02943163, 0.51327263,\n",
              "        0.47069312, 0.61902395, 0.76117358, 0.39275614, 0.35727822],\n",
              "       [0.22048121, 0.34680937, 0.29053194, 0.01893835, 0.33027516,\n",
              "        0.30287655, 0.39832288, 0.48979179, 0.2527265 , 0.22989755],\n",
              "       [0.0773293 , 0.12163634, 0.10189817, 0.00664224, 0.1158373 ,\n",
              "        0.1062278 , 0.13970366, 0.17178452, 0.08863869, 0.08063189],\n",
              "       [0.40012139, 0.6293772 , 0.52724694, 0.03436864, 0.59937151,\n",
              "        0.54964951, 0.72286207, 0.88885658, 0.45863899, 0.41720983]])"
            ]
          },
          "metadata": {},
          "execution_count": 52
        }
      ],
      "source": [
        "A = np.random.uniform(0,1,10)\n",
        "B = np.random.uniform(0,1,10)\n",
        "\n",
        "np.einsum('i->', A)       # np.sum(A)\n",
        "np.einsum('i,i->i', A, B) # A * B\n",
        "np.einsum('i,i', A, B)    # np.inner(A, B)\n",
        "np.einsum('i,j->ij', A, B)    # np.outer(A, B)"
      ]
    },
    {
      "cell_type": "markdown",
      "metadata": {
        "id": "rqLQC8bI9Fnp"
      },
      "source": [
        "#### 98. Considering a path described by two vectors (X,Y), how to sample it using equidistant samples (★★★)?"
      ]
    },
    {
      "cell_type": "code",
      "execution_count": null,
      "metadata": {
        "id": "uO5FxYTX9Fnp"
      },
      "outputs": [],
      "source": [
        "phi = np.arange(0, 10*np.pi, 0.1)\n",
        "a = 1\n",
        "x = a*phi*np.cos(phi)\n",
        "y = a*phi*np.sin(phi)\n",
        "\n",
        "dr = (np.diff(x)**2 + np.diff(y)**2)**.5 # segment lengths\n",
        "r = np.zeros_like(x)\n",
        "r[1:] = np.cumsum(dr)                # integrate path\n",
        "r_int = np.linspace(0, r.max(), 200) # regular spaced path\n",
        "x_int = np.interp(r_int, r, x)       # integrate path\n",
        "y_int = np.interp(r_int, r, y)"
      ]
    },
    {
      "cell_type": "markdown",
      "metadata": {
        "id": "tiVX797b9Fnp"
      },
      "source": [
        "#### 99. Given an integer n and a 2D array X, select from X the rows which can be interpreted as draws from a multinomial distribution with n degrees, i.e., the rows which only contain integers and which sum to n. (★★★)"
      ]
    },
    {
      "cell_type": "code",
      "execution_count": null,
      "metadata": {
        "id": "GO7flypL9Fnp",
        "colab": {
          "base_uri": "https://localhost:8080/"
        },
        "outputId": "879491f4-2ed9-4857-e929-9709fd10bae6"
      },
      "outputs": [
        {
          "output_type": "stream",
          "name": "stdout",
          "text": [
            "[[2. 0. 1. 1.]]\n"
          ]
        }
      ],
      "source": [
        "X = np.asarray([[1.0, 0.0, 3.0, 8.0],\n",
        "                [2.0, 0.0, 1.0, 1.0],\n",
        "                [1.5, 2.5, 1.0, 0.0]])\n",
        "n = 4\n",
        "M = np.logical_and.reduce(np.mod(X, 1) == 0, axis=-1)\n",
        "M &= (X.sum(axis=-1) == n)\n",
        "print(X[M])"
      ]
    },
    {
      "cell_type": "markdown",
      "metadata": {
        "id": "BsiZ6cX29Fnp"
      },
      "source": [
        "#### 100. Compute bootstrapped 95% confidence intervals for the mean of a 1D array X (i.e., resample the elements of an array with replacement N times, compute the mean of each sample, and then compute percentiles over the means). (★★★)"
      ]
    },
    {
      "cell_type": "code",
      "execution_count": null,
      "metadata": {
        "id": "iTRnDo8M9Fnp",
        "colab": {
          "base_uri": "https://localhost:8080/"
        },
        "outputId": "97ed6a6f-700b-4bcc-efc7-49ae6048a8c5"
      },
      "outputs": [
        {
          "output_type": "stream",
          "name": "stdout",
          "text": [
            "[-0.23210675  0.13989664]\n"
          ]
        }
      ],
      "source": [
        "X = np.random.randn(100) # random 1D array\n",
        "N = 1000 # number of bootstrap samples\n",
        "idx = np.random.randint(0, X.size, (N, X.size))\n",
        "means = X[idx].mean(axis=1)\n",
        "confint = np.percentile(means, [2.5, 97.5])\n",
        "print(confint)"
      ]
    }
  ],
  "metadata": {
    "kernelspec": {
      "display_name": "Python 3",
      "language": "python",
      "name": "python3"
    },
    "language_info": {
      "codemirror_mode": {
        "name": "ipython",
        "version": 3
      },
      "file_extension": ".py",
      "mimetype": "text/x-python",
      "name": "python",
      "nbconvert_exporter": "python",
      "pygments_lexer": "ipython3",
      "version": "3.8.3"
    },
    "colab": {
      "provenance": []
    }
  },
  "nbformat": 4,
  "nbformat_minor": 0
}